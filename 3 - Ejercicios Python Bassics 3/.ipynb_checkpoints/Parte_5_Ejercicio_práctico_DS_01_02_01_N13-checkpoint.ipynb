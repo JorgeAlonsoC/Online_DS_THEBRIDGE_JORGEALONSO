{
 "cells": [
  {
   "cell_type": "markdown",
   "metadata": {
    "id": "9l3HMgm6RWxF"
   },
   "source": [
    "![TheBridge_logo_RGB_color.jpg](attachment:TheBridge_logo_RGB_color.jpg)"
   ]
  },
  {
   "cell_type": "markdown",
   "metadata": {
    "id": "RGg9iWpoRWxG"
   },
   "source": [
    "![ejercicios.png](attachment:ejercicios.png)"
   ]
  },
  {
   "cell_type": "markdown",
   "metadata": {
    "id": "AyOlWS2nRWxH"
   },
   "source": [
    "## PRACTICA OBLIGATORIA: COLECCIONES Y FUNCIONES"
   ]
  },
  {
   "cell_type": "markdown",
   "metadata": {
    "id": "6UOgb0KVRWxH"
   },
   "source": [
    "* La práctica obligatoria de esta unidad consiste varios ejercicios de programación libre a completar sobre Colecciones y Funciones. Descarga este notebook en tu ordenador y trabaja en local.  \n",
    "* Recuerda que debes subirla a tu repositorio personal antes de la sesión en vivo para que puntúe adecuadamente y puedas participar en dicha sesión.  \n",
    "* Recuerda también que no es necesario que esté perfecta, sólo es necesario que se vea el esfuerzo.\n",
    "* Esta práctica se resolverá en la sesión en vivo correspondiente y la solución se publicará en el repo del curso."
   ]
  },
  {
   "cell_type": "markdown",
   "metadata": {
    "id": "j3yu-tEjRWxH"
   },
   "source": [
    "### Contenidos"
   ]
  },
  {
   "cell_type": "markdown",
   "metadata": {
    "id": "kO-fLH39RWxH"
   },
   "source": [
    "## Ejercicio 1\n",
    "Eleva todos los elementos de la lista al cuadrado\n",
    "> ```ejer_2 = [1,2,3,4,5]```"
   ]
  },
  {
   "cell_type": "code",
   "execution_count": 20,
   "metadata": {
    "id": "ks5l3yi7RWxH"
   },
   "outputs": [
    {
     "name": "stdout",
     "output_type": "stream",
     "text": [
      "[1, 4, 9, 16, 25]\n"
     ]
    }
   ],
   "source": [
    "ejer_2 = [1,2,3,4,5]  \n",
    "\n",
    "for numero in range(len(ejer_2)):                       #numero entre los corchetes hace posible ir yendo uno po uno todos los numeros de la lista para elevarlos al cuadrado\n",
    "    ejer_2[numero] = ejer_2[numero]*ejer_2[numero]\n",
    "\n",
    "print (ejer_2)"
   ]
  },
  {
   "cell_type": "markdown",
   "metadata": {
    "id": "kI_Xr5oFRWxI"
   },
   "source": [
    "## Ejercicio 2\n",
    "Haz un programa que detecte todos los duplicados de un elemento en una lista:\n",
    "* Utiliza una variable duplicado para asignarle el valor del elemento del que queremos encontrar todos sus duplicados.\n",
    "* El programa debe devolver todos los índices de los elementos duplicados.\n",
    "* Aplícalo para encontrar los duplicados de \"un\", \"es\" y \"binario\" de:  \n",
    "\n",
    ">```ejer_3 = [\"Un\", \"árbol\", \"binario\", \"es\", \"una\", \"estructura\", \"de\", \"un\", \"tipo\", \"particular\", \"a\", \"veces\", \"no\", \"es\", \"ni\", \"binario\"]```\n"
   ]
  },
  {
   "cell_type": "code",
   "execution_count": 1,
   "metadata": {
    "id": "cLY9WB7YRWxI"
   },
   "outputs": [],
   "source": [
    "def cuenta_elementos(ejer_3):\n",
    "    for i in args:\n",
    "        cuenta_variables = ejer_3.count \n",
    "    return [cuenta_variables]\n",
    "    \n",
    "ejer_3 = [\"Un\", \"árbol\", \"binario\", \"es\", \"una\", \"estructura\", \"de\", \"un\", \"tipo\", \"particular\", \"a\", \"veces\", \"no\", \"es\", \"ni\", \"binario\"]"
   ]
  },
  {
   "cell_type": "markdown",
   "metadata": {
    "id": "3WrBd5QaRWxI"
   },
   "source": [
    "## Ejercicio 3\n",
    "1. ¿Cuántas veces se repite el 3 en la siguiente tupla?\n",
    "2. Crea una tupla nueva con los elementos desde la posicion 5 a la 10.\n",
    "3. ¿Cuántos elementos tiene la tupla `ejer_3`?\n",
    "> ```ejer_9 = (3, 20, 3, 47, 19, 3, 29, 45, 67, 78, 90, 3, 3, 5, 2, 4, 7, 9, 4, 2, 4, 3, 3, 4, 6, 7)```"
   ]
  },
  {
   "cell_type": "code",
   "execution_count": 26,
   "metadata": {
    "id": "bkv_R5LYRWxI"
   },
   "outputs": [
    {
     "name": "stdout",
     "output_type": "stream",
     "text": [
      "7\n",
      "(19, 3, 29, 45, 67, 78)\n",
      "16\n"
     ]
    }
   ],
   "source": [
    "ejer_9 = (3, 20, 3, 47, 19, 3, 29, 45, 67, 78, 90, 3, 3, 5, 2, 4, 7, 9, 4, 2, 4, 3, 3, 4, 6, 7)\n",
    "\n",
    "cuenta_elemento = ejer_9.count(3)\n",
    "print(cuenta_elemento)\n",
    "\n",
    "nueva_tupla = ejer_9[4:10]\n",
    "print(nueva_tupla)\n",
    "\n",
    "print(len(ejer_3))"
   ]
  },
  {
   "cell_type": "markdown",
   "metadata": {
    "id": "6g8Y54AeRWxI"
   },
   "source": [
    "## Ejercicio 4\n",
    "Comprueba si el numero 60 esta en la tupla del ejercicio 3"
   ]
  },
  {
   "cell_type": "code",
   "execution_count": 30,
   "metadata": {
    "id": "F8VTEZonRWxI"
   },
   "outputs": [
    {
     "name": "stdout",
     "output_type": "stream",
     "text": [
      "No se encuentra este número en la tupla\n"
     ]
    }
   ],
   "source": [
    "cuenta_elemento = ejer_9.count(60)\n",
    "if cuenta_elemento > 0:\n",
    "    print(\"La tupla tiene\", cuenta_elemento, \"veces repetido este número\")\n",
    "else: \n",
    "    print(\"No se encuentra este número en la tupla\")"
   ]
  },
  {
   "cell_type": "markdown",
   "metadata": {
    "id": "y0fg-ZA6RWxI"
   },
   "source": [
    "## Ejercicio 5\n",
    "1. Convierte la tupla del ejercicio 3 en una lista\n",
    "2. Convierte la tupla del ejercicio 3 en un set\n",
    "3. Convierte la tupla del ejercicio 3 en un diccionario. Usa también los indices"
   ]
  },
  {
   "cell_type": "code",
   "execution_count": 34,
   "metadata": {
    "id": "_O5hXr01RWxI"
   },
   "outputs": [
    {
     "name": "stdout",
     "output_type": "stream",
     "text": [
      "[3, 20, 3, 47, 19, 3, 29, 45, 67, 78, 90, 3, 3, 5, 2, 4, 7, 9, 4, 2, 4, 3, 3, 4, 6, 7] <class 'list'>\n",
      "{2, 3, 67, 5, 4, 7, 6, 9, 45, 78, 47, 19, 20, 90, 29} <class 'set'>\n"
     ]
    },
    {
     "ename": "TypeError",
     "evalue": "cannot convert dictionary update sequence element #0 to a sequence",
     "output_type": "error",
     "traceback": [
      "\u001b[31m---------------------------------------------------------------------------\u001b[39m",
      "\u001b[31mTypeError\u001b[39m                                 Traceback (most recent call last)",
      "\u001b[36mCell\u001b[39m\u001b[36m \u001b[39m\u001b[32mIn[34]\u001b[39m\u001b[32m, line 7\u001b[39m\n\u001b[32m      4\u001b[39m tupla_a_set=\u001b[38;5;28mset\u001b[39m(ejer_9)\n\u001b[32m      5\u001b[39m \u001b[38;5;28mprint\u001b[39m(tupla_a_set, \u001b[38;5;28mtype\u001b[39m(tupla_a_set))\n\u001b[32m----> \u001b[39m\u001b[32m7\u001b[39m tupla_a_dict=\u001b[38;5;28;43mdict\u001b[39;49m\u001b[43m(\u001b[49m\u001b[43mejer_9\u001b[49m\u001b[43m)\u001b[49m\n\u001b[32m      8\u001b[39m \u001b[38;5;28mprint\u001b[39m(tupla_a_dict, \u001b[38;5;28mtype\u001b[39m(tupla_a_dict))\n",
      "\u001b[31mTypeError\u001b[39m: cannot convert dictionary update sequence element #0 to a sequence"
     ]
    }
   ],
   "source": [
    "tupla_a_lista=list(ejer_9)\n",
    "print(tupla_a_lista, type(tupla_a_lista))\n",
    "\n",
    "tupla_a_set=set(ejer_9)\n",
    "print(tupla_a_set, type(tupla_a_set))\n",
    "\n",
    "tupla_a_dict=dict(ejer_9)\n",
    "print(tupla_a_dict, type(tupla_a_dict))"
   ]
  },
  {
   "cell_type": "markdown",
   "metadata": {
    "id": "eOdWWbxvRWxJ"
   },
   "source": [
    "## Ejercicio 6\n",
    "Multiplica todos los valores del diccionario\n",
    "> ```ejer_6 = {1: 11, 2: 22, 3: 33, 4: 44, 5: 55}```"
   ]
  },
  {
   "cell_type": "code",
   "execution_count": 28,
   "metadata": {
    "id": "KcuByovKRWxJ"
   },
   "outputs": [
    {
     "name": "stdout",
     "output_type": "stream",
     "text": [
      "19326120.0\n"
     ]
    }
   ],
   "source": [
    "ejer_6 = {1: 11, 2: 22, 3: 33, 4: 44, 5: 55}\n",
    "\n",
    "valores = list(ejer_6.values()) #1º pasar el diccionario a lista, solo quedandonos con los valores\n",
    "\n",
    "producto = 1   #Esto es para crear la variable \"producto\" que vamos a usar en el bucle for, para iniciar el acumulado. \n",
    "               #Si se multiplican los números se debe empezar por un número que no cambia al multiplicarse\n",
    "for valor in valores:\n",
    "    producto = producto*valor   #en producto se va acumulando las multiplicaciones pasadas y en valor \n",
    "\n",
    "print(float(producto))"
   ]
  },
  {
   "cell_type": "markdown",
   "metadata": {
    "id": "W7TUSaKRRWxJ"
   },
   "source": [
    "## Ejercicio 7\n",
    "\n",
    "1. Crea un diccionario que describa un libro, con los siguientes campos o claves: \"titulo\",\"autor\",\"idioma original\",\"año de publicación\".\n",
    "2. Crea un a lista, llamada librería.\n",
    "3. Añade cuatro libros a tu elección a la librería."
   ]
  },
  {
   "cell_type": "code",
   "execution_count": 10,
   "metadata": {
    "id": "d-IMRvxRRWxJ",
    "vscode": {
     "languageId": "plaintext"
    }
   },
   "outputs": [
    {
     "name": "stdout",
     "output_type": "stream",
     "text": [
      "{'titulo': 'Viaje al Amazonas', 'autor': 'Jorge', 'idioma_original': 'español', 'ano_publicacion': 1998}\n",
      "[{'titulo': 'Viaje al Amazonas', 'autor': 'Jorge', 'idioma_original': 'español', 'ano_publicacion': 1998}, {'titulo': 'Sandokan', 'autor': 'Carlos Litros', 'idioma_original': 'español', 'ano_publicacion': 2005}, {'titulo': 'La vuelta al mundo en 80 días', 'autor': 'Emilio Gutierrez', 'idioma_original': 'español', 'ano_publicacion': 1892}, {'titulo': 'La isla de las cabezas cortadas', 'autor': 'Anónimo', 'idioma_original': 'español', 'ano_publicacion': 1740}]\n"
     ]
    }
   ],
   "source": [
    "libro1_diccionario = {\n",
    "    \"titulo\": \"Viaje al Amazonas\", \n",
    "    \"autor\": \"Jorge\", \n",
    "    \"idioma_original\": \"español\", \n",
    "    \"ano_publicacion\": 1998\n",
    "}\n",
    "libro2_diccionario = {\n",
    "    \"titulo\": \"Sandokan\", \n",
    "    \"autor\": \"Carlos Litros\", \n",
    "    \"idioma_original\": \"español\", \n",
    "    \"ano_publicacion\": 2005\n",
    "}\n",
    "\n",
    "libro3_diccionario = {\n",
    "    \"titulo\": \"La vuelta al mundo en 80 días\", \n",
    "    \"autor\": \"Emilio Gutierrez\", \n",
    "    \"idioma_original\": \"español\", \n",
    "    \"ano_publicacion\": 1892\n",
    "}\n",
    "\n",
    "libro4_diccionario = {\n",
    "    \"titulo\": \"La isla de las cabezas cortadas\", \n",
    "    \"autor\": \"Anónimo\", \n",
    "    \"idioma_original\": \"español\", \n",
    "    \"ano_publicacion\": 1740\n",
    "}\n",
    "print(libro_diccionario)\n",
    "\n",
    "Libreria= []\n",
    "Libreria.append(libro1_diccionario)\n",
    "Libreria.append(libro2_diccionario)\n",
    "Libreria.append(libro3_diccionario)\n",
    "Libreria.append(libro4_diccionario)\n",
    "\n",
    "print(Libreria)"
   ]
  },
  {
   "cell_type": "markdown",
   "metadata": {
    "id": "glMoedjYRWxJ"
   },
   "source": [
    "## Ejercicio 8\n",
    "Modifica los valores del idioma de todos los libros del ejercicio anterior para que sea \"esperanto\"\n"
   ]
  },
  {
   "cell_type": "code",
   "execution_count": 13,
   "metadata": {
    "id": "veNdC-uwRWxJ"
   },
   "outputs": [
    {
     "name": "stdout",
     "output_type": "stream",
     "text": [
      "[{'titulo': 'Viaje al Amazonas', 'autor': 'Jorge', 'idioma_original': 'español', 'ano_publicacion': 1998}, {'titulo': 'Sandokan', 'autor': 'Carlos Litros', 'idioma_original': 'español', 'ano_publicacion': 2005}, {'titulo': 'La vuelta al mundo en 80 días', 'autor': 'Emilio Gutierrez', 'idioma_original': 'español', 'ano_publicacion': 1892}, {'titulo': 'La isla de las cabezas cortadas', 'autor': 'Anónimo', 'idioma_original': 'español', 'ano_publicacion': 1740}]\n"
     ]
    }
   ],
   "source": [
    "idioma_original = {\n",
    "    \"esperanto\" : libro1_diccionario,\n",
    "    \"esperanto\" : libro2_diccionario,\n",
    "    \"esperanto\" : libro3_diccionario,\n",
    "    \"esperanto\" : libro4_diccionario,\n",
    "}\n",
    "print(Libreria)"
   ]
  },
  {
   "cell_type": "markdown",
   "metadata": {
    "id": "DRCJG04KRWxJ"
   },
   "source": [
    "## Ejercicio 9\n",
    "1. Escribe un programa que dada una variable titulo busque los libros que hay en la librería con ese título. Si no se encuentra debe devolver el mensaje `Ese no lo tengo, ¿mola?`\n",
    "2. Pruena que el programa con uno de tus libros y con otro que no contenga tu librería."
   ]
  },
  {
   "cell_type": "code",
   "execution_count": null,
   "metadata": {
    "id": "eWHdJi9BRWxJ"
   },
   "outputs": [],
   "source": []
  },
  {
   "cell_type": "markdown",
   "metadata": {
    "id": "17YOpYuFRWxJ"
   },
   "source": [
    "## Ejercicio 10\n",
    "Convierte el programa del ejercicio 2 en una función al que se le pase el valor a buscar como un argumento posicional"
   ]
  },
  {
   "cell_type": "code",
   "execution_count": null,
   "metadata": {
    "id": "xbj0LgvnRWxJ"
   },
   "outputs": [],
   "source": []
  },
  {
   "cell_type": "markdown",
   "metadata": {
    "id": "xZ-sWJxPRWxJ"
   },
   "source": [
    "## Ejercicio 11\n",
    "Convierte el programa del ejercicio 9 en una función al que se le pasen como argumentos la librería, posicional, y el título, argumento keyword con valor \"ninguno\", por defecto."
   ]
  },
  {
   "cell_type": "code",
   "execution_count": null,
   "metadata": {
    "id": "4-JrsMdNRWxK"
   },
   "outputs": [],
   "source": []
  },
  {
   "cell_type": "markdown",
   "metadata": {
    "id": "FtJir95QRWxK"
   },
   "source": [
    "## Ejercicio 12\n",
    "Solicitar al usuario que ingrese su dirección email. Imprimir un mensaje indicando si la dirección es válida o no, valiéndose de una función para decidirlo. Una dirección se considerará válida si contiene el símbolo \"@\"."
   ]
  },
  {
   "cell_type": "code",
   "execution_count": 5,
   "metadata": {
    "id": "sk852IZ8RWxK"
   },
   "outputs": [
    {
     "name": "stdin",
     "output_type": "stream",
     "text": [
      "Introduzca su correo electrónico jorge@gmail.com\n"
     ]
    },
    {
     "name": "stdout",
     "output_type": "stream",
     "text": [
      "Correo correcto\n"
     ]
    }
   ],
   "source": [
    "correo_usurario = input(\"Introduzca su correo electrónico\")\n",
    "if \"@\" in correo_usurario:\n",
    "    print(\"Correo correcto\")\n",
    "else:\n",
    "    print(\"Correo erróneo\")\n"
   ]
  },
  {
   "cell_type": "markdown",
   "metadata": {
    "id": "Kw1MWBwBRWxK"
   },
   "source": [
    "## Ejercicio 13\n",
    "Escribe una función que compruebe si un DNI es válido, devolviendo `True` en caso afirmativo.  \n",
    "En primer lugar, el DNI debe tener entre 7 y 8 dígitos numéricos.  \n",
    "Para saber si la letra del DNI es correcta puedes utilizar el siguiente fragmento de código:\n",
    ">```Python\n",
    ">DNI= 55555555\n",
    ">palabra='TRWAGMYFPDXBNJZSQVHLCKE'\n",
    ">print('La letra del DNI es: ', palabra[DNI%23])\n",
    ">````\n"
   ]
  },
  {
   "cell_type": "code",
   "execution_count": 4,
   "metadata": {
    "id": "F5Z9rSHqRWxK"
   },
   "outputs": [],
   "source": [
    "def comprobar_dni (DNI):\n",
    "    palabra='TRWAGMYFPDXBNJZSQVHLCKE'\n",
    "    if len(DNI)<8 or len(DNI)>9:\n",
    "        return \"DNI no válido\"\n",
    "    letra = DNI[-1]"
   ]
  },
  {
   "cell_type": "code",
   "execution_count": null,
   "metadata": {},
   "outputs": [],
   "source": []
  }
 ],
 "metadata": {
  "colab": {
   "provenance": []
  },
  "kernelspec": {
   "display_name": "Python 3 (ipykernel)",
   "language": "python",
   "name": "python3"
  },
  "language_info": {
   "codemirror_mode": {
    "name": "ipython",
    "version": 3
   },
   "file_extension": ".py",
   "mimetype": "text/x-python",
   "name": "python",
   "nbconvert_exporter": "python",
   "pygments_lexer": "ipython3",
   "version": "3.13.3"
  }
 },
 "nbformat": 4,
 "nbformat_minor": 4
}
