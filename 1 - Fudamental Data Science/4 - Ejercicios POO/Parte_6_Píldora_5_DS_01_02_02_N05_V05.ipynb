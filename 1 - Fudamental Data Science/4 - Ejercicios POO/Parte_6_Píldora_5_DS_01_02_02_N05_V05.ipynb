{
 "cells": [
  {
   "cell_type": "markdown",
   "metadata": {
    "id": "6Oj_OmATCFJQ"
   },
   "source": [
    "![TheBridge_Python_v0.png](attachment:TheBridge_Python_v0.png)"
   ]
  },
  {
   "cell_type": "markdown",
   "metadata": {
    "id": "AUk_h9_hCFJS"
   },
   "source": [
    "##  Métodos\n"
   ]
  },
  {
   "cell_type": "markdown",
   "metadata": {
    "id": "FDlj7uMeCFJS"
   },
   "source": [
    "### Contenidos\n"
   ]
  },
  {
   "cell_type": "markdown",
   "metadata": {
    "id": "EhVUN4LkCFJT"
   },
   "source": [
    "* [Introducción  ](#Introducción--)\n",
    "\n"
   ]
  },
  {
   "cell_type": "markdown",
   "metadata": {
    "id": "fb0ub0x3CFJT"
   },
   "source": [
    "### Introducción  \n",
    "[al indice](#Contenidos)  \n",
    "\n",
    "Son funciones que podemos definir dentro de las clases. Estas funciones cambiarán el estado de algún atributo o realizarán cálculos que nos sirvan de output. Un ejemplo sencillo puede ser, un método de la clase coche que saque la potencia en kilovatios, en vez de en caballos. O si tiene un estado de mantenimiento (ITV pasada o no), que modifique ese estado.\n",
    "\n",
    "El constructor es un tipo de método. La diferencia con el resto de métodos radica en su nombre, `__init__`. La sintaxis para definir los métodos es como si fuese una función. Y luego para llamar al método se utiliza `objeto.metodo(argumentos_metodo)`. Esto ya lo hemos usado anteriormente, cuando haciamos un `string.lower()`, simplemente llamábamos al método `lower()`, que no requería de argumentos, de la clase *string*."
   ]
  },
  {
   "cell_type": "code",
   "execution_count": 18,
   "metadata": {
    "id": "ePbMjBDMCFJT"
   },
   "outputs": [],
   "source": [
    "class coche:\n",
    "    ruedas = 4\n",
    "\n",
    "    def __init__(self, marca_coche, num_puertas = 4):\n",
    "        self.marca = marca_coche\n",
    "        self.puertas = num_puertas\n",
    "    def caracteristicas(self):\n",
    "        return \"Marca: \" + self.marca + \", Puertas: \" + str(self.puertas)\n",
    "        #se pone str porque puertas es un numero entero, para concatenar necesito la conversión a str\n",
    "        #Es importante el self. para acceder a los atributos del objeto, sino no va a funcionar"
   ]
  },
  {
   "cell_type": "code",
   "execution_count": 19,
   "metadata": {
    "id": "nuJFpS4LCFJU"
   },
   "outputs": [
    {
     "data": {
      "text/plain": [
       "'Marca: Ford, Puertas: 4'"
      ]
     },
     "execution_count": 19,
     "metadata": {},
     "output_type": "execute_result"
    }
   ],
   "source": [
    "ford_ka = coche (\"Ford\")\n",
    "ford_ka.caracteristicas()"
   ]
  },
  {
   "cell_type": "markdown",
   "metadata": {
    "id": "vDAYUCBZCFJU"
   },
   "source": [
    "Fíjate que para llamar a las ruedas se usa `self`, a pesar de que no lo habíamos metido en el constructor. Así evitamos llamar a otra variable del programa que se llame *ruedas*. Nos aseguramos que son las ruedas de ese coche con el `self`."
   ]
  },
  {
   "cell_type": "code",
   "execution_count": 20,
   "metadata": {
    "id": "axuUXKyyCFJV"
   },
   "outputs": [],
   "source": [
    "class coche:\n",
    "    ruedas = 4\n",
    "\n",
    "    def __init__(self, marca_coche, precio_coche, num_puertas = 4):\n",
    "        self.marca = marca_coche\n",
    "        self.puertas = num_puertas\n",
    "        self.precio = precio_coche\n",
    "    def caracteristicas(self):\n",
    "        return \"Marca: \" + self.marca + \", Puertas: \" + str(self.puertas)\n",
    "\n",
    "    def precio_actual(self, anos):\n",
    "        if anos < 5:\n",
    "            return self.precio * 0.7\n",
    "        elif anos > 5 and anos < 10:\n",
    "            return self.precio * 0.5\n",
    "        else:\n",
    "            return self.precio * 0.3\n",
    "            "
   ]
  },
  {
   "cell_type": "code",
   "execution_count": 28,
   "metadata": {
    "id": "Pd_hKV4MCFJV"
   },
   "outputs": [
    {
     "data": {
      "text/plain": [
       "17500.0"
      ]
     },
     "execution_count": 28,
     "metadata": {},
     "output_type": "execute_result"
    }
   ],
   "source": [
    "teslax = coche (\"Tesla\", 35000)\n",
    "teslax.precio_actual(8) #8 es el numero de años que tiene el coche. hay que ponerlo porque despues del self en la función pusimos \",anos\""
   ]
  },
  {
   "cell_type": "code",
   "execution_count": 26,
   "metadata": {},
   "outputs": [
    {
     "data": {
      "text/plain": [
       "'Marca: Tesla, Puertas: 4'"
      ]
     },
     "execution_count": 26,
     "metadata": {},
     "output_type": "execute_result"
    }
   ],
   "source": [
    "teslax.caracteristicas()"
   ]
  },
  {
   "cell_type": "code",
   "execution_count": null,
   "metadata": {},
   "outputs": [],
   "source": []
  }
 ],
 "metadata": {
  "colab": {
   "provenance": []
  },
  "kernelspec": {
   "display_name": "Python 3 (ipykernel)",
   "language": "python",
   "name": "python3"
  },
  "language_info": {
   "codemirror_mode": {
    "name": "ipython",
    "version": 3
   },
   "file_extension": ".py",
   "mimetype": "text/x-python",
   "name": "python",
   "nbconvert_exporter": "python",
   "pygments_lexer": "ipython3",
   "version": "3.13.3"
  }
 },
 "nbformat": 4,
 "nbformat_minor": 4
}
