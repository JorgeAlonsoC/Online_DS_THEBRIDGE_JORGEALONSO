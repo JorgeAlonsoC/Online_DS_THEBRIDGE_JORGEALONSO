{
 "cells": [
  {
   "cell_type": "markdown",
   "metadata": {
    "id": "c32rS5yU_hLz"
   },
   "source": [
    "![TheBridge_Python_v0.png](attachment:TheBridge_Python_v0.png)"
   ]
  },
  {
   "cell_type": "markdown",
   "metadata": {
    "id": "m7i2-tmH_hL5"
   },
   "source": [
    "## Colecciones Python: Sets\n"
   ]
  },
  {
   "cell_type": "markdown",
   "metadata": {
    "id": "Ty3MjLDu_hL8"
   },
   "source": [
    "### Contenidos\n"
   ]
  },
  {
   "cell_type": "markdown",
   "metadata": {
    "id": "AxZVRPyR_hL_"
   },
   "source": [
    "* [Introducción](#Introducción)\n",
    "\n"
   ]
  },
  {
   "cell_type": "markdown",
   "metadata": {
    "id": "RyXTenIN_hME"
   },
   "source": [
    "### Introducción\n",
    "[al indice](#Contenidos)  \n",
    "\n",
    "Otra colección *bulit-in* de Python, compuesta por un conjunto de *valores*. Muy parecidos a las listas. Tienen las siguientes características:\n",
    "* **Mutables**: podemos modificarlos una vez se hayan creado\n",
    "* **No ordenado**\n",
    "* **Elementos unicos**: se compone de un conjunto de valores únicas\n",
    "\n",
    "**¿Cuándo usar sets?** Cuando estemos buscando unicidad en nuestros datos y no nos importe el orden.\n",
    "\n",
    "Te dejo por aquí [la documentación](https://docs.python.org/2/library/sets.html) para realizar consultas sobre los sets\n",
    "\n",
    "Si sintaxis es:\n",
    ">```Python\n",
    "> mi_set = {elemento1, elemento2, elemento3}\n",
    ">```\n",
    "\n",
    "Tiene una sintaxis muy parecida a la de las listas, pero en este caso no se utilizan los `{}`."
   ]
  },
  {
   "cell_type": "code",
   "execution_count": 3,
   "metadata": {
    "id": "8R3wa-da_hMF"
   },
   "outputs": [
    {
     "name": "stdout",
     "output_type": "stream",
     "text": [
      "4\n",
      "{'rojo', 'verde', 'naranja', 'azul'} <class 'set'>\n"
     ]
    }
   ],
   "source": [
    "colores = {\"azul\", \"rojo\", \"verde\", \"naranja\", \"azul\"}\n",
    "print(len(colores))\n",
    "print(colores, type(colores))"
   ]
  },
  {
   "cell_type": "markdown",
   "metadata": {
    "id": "Sdfoa8bk_hMG"
   },
   "source": [
    "Los elementos del set son unicos, por lo que si en la declaración, o posteriormente añadiendo elementos hubiese algún duplicado, el set lo ignoraría. Es más, cuando aplicas el `len`, muestra la cantidad de valores únicos que tiene."
   ]
  },
  {
   "cell_type": "code",
   "execution_count": 7,
   "metadata": {
    "id": "MkI6eH3y_hMG"
   },
   "outputs": [
    {
     "name": "stdout",
     "output_type": "stream",
     "text": [
      "{'azul', 'verde', 'burdeos', 'rojo', 'celeste', 'rosa'}\n",
      "{'naranja', 'azul', 'verde', 'burdeos', 'rojo', 'celeste', 'rosa'}\n",
      "{'azul', 'verde', 'burdeos', 'rojo', 'celeste', 'rosa'}\n",
      "azul\n",
      "verde\n",
      "burdeos\n",
      "rojo\n",
      "celeste\n",
      "rosa\n"
     ]
    }
   ],
   "source": [
    "#añadir valores con comando .add\n",
    "colores.add(\"rosa\")\n",
    "print(colores)\n",
    "\n",
    "#añadir una lista .update\n",
    "colores.update([\"celeste\", \"burdeos\", \"naranja\"])\n",
    "print(colores)\n",
    "\n",
    "#quitar elementos de un set .remove\n",
    "colores.remove(\"naranja\")\n",
    "print(colores)\n",
    "\n",
    "#iterables, de recorrenen bucle\n",
    "for color in colores:\n",
    "    print (color)"
   ]
  },
  {
   "cell_type": "markdown",
   "metadata": {
    "id": "EzPgjScj_hMH"
   },
   "source": [
    "Para comprobar si dos sets tienen los mismos elementos"
   ]
  },
  {
   "cell_type": "code",
   "execution_count": 8,
   "metadata": {
    "id": "ES9PWAse_hMJ"
   },
   "outputs": [
    {
     "data": {
      "text/plain": [
       "True"
      ]
     },
     "execution_count": 8,
     "metadata": {},
     "output_type": "execute_result"
    }
   ],
   "source": [
    "set1 = {1,2,4,4,2,1,2,1}\n",
    "set2 = {4,2,1,4}\n",
    "set1==set2"
   ]
  },
  {
   "cell_type": "code",
   "execution_count": 15,
   "metadata": {},
   "outputs": [
    {
     "name": "stdout",
     "output_type": "stream",
     "text": [
      "[10, 100, 23, 23, 40, 23, 40, 37, 40, 37]\n",
      "[100, 37, 40, 10, 23]\n"
     ]
    }
   ],
   "source": [
    "#elimnar duplicados de una lista\n",
    "lista_con = [10,100,23,23,40,23,40,37,40,37]\n",
    "print(lista_con)\n",
    "#print(set(lista_con))\n",
    "#print(list(set(lista_con)))\n",
    "lista_con = list(set(lista_con))\n",
    "print(lista_con)"
   ]
  },
  {
   "cell_type": "code",
   "execution_count": null,
   "metadata": {},
   "outputs": [],
   "source": []
  }
 ],
 "metadata": {
  "colab": {
   "provenance": []
  },
  "kernelspec": {
   "display_name": "Python 3 (ipykernel)",
   "language": "python",
   "name": "python3"
  },
  "language_info": {
   "codemirror_mode": {
    "name": "ipython",
    "version": 3
   },
   "file_extension": ".py",
   "mimetype": "text/x-python",
   "name": "python",
   "nbconvert_exporter": "python",
   "pygments_lexer": "ipython3",
   "version": "3.13.3"
  }
 },
 "nbformat": 4,
 "nbformat_minor": 4
}
