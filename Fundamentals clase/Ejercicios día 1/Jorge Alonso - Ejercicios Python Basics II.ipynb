{
 "cells": [
  {
   "attachments": {},
   "cell_type": "markdown",
   "metadata": {},
   "source": [
    "![imagen](./img/ejercicios.png)"
   ]
  },
  {
   "attachments": {},
   "cell_type": "markdown",
   "metadata": {},
   "source": [
    "# Ejercicios Python Basics II"
   ]
  },
  {
   "attachments": {},
   "cell_type": "markdown",
   "metadata": {},
   "source": [
    "## Ejercicio 1\n",
    "* Crea dos variables numericas: un `int` y un `float`\n",
    "* Comprueba sus tipos\n",
    "* Sumalas en otra nueva\n",
    "* ¿De qué tipo es la nueva variable?\n",
    "* Elimina las dos primeras variables creadas"
   ]
  },
  {
   "cell_type": "code",
   "execution_count": 3,
   "metadata": {},
   "outputs": [
    {
     "name": "stdout",
     "output_type": "stream",
     "text": [
      "<class 'int'>\n",
      "<class 'float'>\n",
      "77.97\n",
      "<class 'float'>\n"
     ]
    }
   ],
   "source": [
    "variable1 = 23\n",
    "variable2 = 54.97\n",
    "print(type(variable1))\n",
    "print(type(variable2))\n",
    "\n",
    "variable3 = variable1 + variable2\n",
    "print(variable3) \n",
    "print(type(variable3))\n",
    "\n",
    "del(variable1)\n",
    "del(variable2)"
   ]
  },
  {
   "attachments": {},
   "cell_type": "markdown",
   "metadata": {},
   "source": [
    "## Ejercicio 2\n",
    "Escribe un programa para pasar de grados a radianes. Hay que usar `input`. Recuerda que la conversión se realiza mediante\n",
    "\n",
    "radianes = grados*(pi/180)"
   ]
  },
  {
   "cell_type": "code",
   "execution_count": 4,
   "metadata": {},
   "outputs": [],
   "source": [
    "import math"
   ]
  },
  {
   "cell_type": "code",
   "execution_count": 12,
   "metadata": {},
   "outputs": [
    {
     "name": "stdout",
     "output_type": "stream",
     "text": [
      "La equivalencia en radianes es 17.0\n"
     ]
    }
   ],
   "source": [
    "grados = float(input(\"Unidad de grados que deseas pasar a radianes\"))\n",
    "from math import pi\n",
    "radianes = grados * (pi / 180)\n",
    "print (\"La equivalencia en radianes es\", round(radianes, 2))"
   ]
  },
  {
   "attachments": {},
   "cell_type": "markdown",
   "metadata": {},
   "source": [
    "## Ejercicio 3\n",
    "Escribe un programa que calcule el area de un paralelogramo (base x altura). También con `input`"
   ]
  },
  {
   "cell_type": "code",
   "execution_count": 15,
   "metadata": {},
   "outputs": [
    {
     "name": "stdout",
     "output_type": "stream",
     "text": [
      "El area del paralelogramo es de 2640.2424336 cm\n"
     ]
    }
   ],
   "source": [
    "base = float(input(\"Base en cm de paralelogramo\"))\n",
    "altura = float(input(\"Altura en cm de paralelogramo\"))\n",
    "\n",
    "area = base * altura\n",
    "\n",
    "print(\"El area del paralelogramo es de\", area, \"cm\")"
   ]
  },
  {
   "attachments": {},
   "cell_type": "markdown",
   "metadata": {},
   "source": [
    "## Ejercicio 4\n",
    "Tenemos las siguientes variables:\n",
    "\n",
    "```Python\n",
    "A = 4\n",
    "B = \"Text\"\n",
    "C = 4.1\n",
    "```\n",
    "\n",
    "Comprueba:\n",
    "1. Si A y B son equivalentes\n",
    "2. Si A y C NO son equivalentes\n",
    "3. Si A es mayor que C \n",
    "4. Si C es menor o igual que A\n",
    "5. Si B NO es equivalente a C"
   ]
  },
  {
   "cell_type": "code",
   "execution_count": 10,
   "metadata": {},
   "outputs": [
    {
     "name": "stdout",
     "output_type": "stream",
     "text": [
      "False\n",
      "True\n",
      "False\n",
      "True\n"
     ]
    }
   ],
   "source": [
    "A = 4\n",
    "B = \"Text\"\n",
    "C = 4.1\n",
    "\n",
    "print (A==B)\n",
    "print (A!=B)\n",
    "print(C<=A)\n",
    "print(B!=C)"
   ]
  },
  {
   "attachments": {},
   "cell_type": "markdown",
   "metadata": {},
   "source": [
    "## Ejercicio 5\n",
    "Crea un programa donde se recojan dos inputs del usuario, y el output del programa sea si esos inputs son iguales o no"
   ]
  },
  {
   "cell_type": "code",
   "execution_count": 16,
   "metadata": {},
   "outputs": [
    {
     "name": "stdout",
     "output_type": "stream",
     "text": [
      "True\n"
     ]
    }
   ],
   "source": [
    "input1 = input(\"Escribe el nombre de la variable que deseas comparar\")\n",
    "input2 = input(\"Escribe el nombre de la variable que deseas comparar\")\n",
    "\n",
    "print(input1 == input2)"
   ]
  },
  {
   "attachments": {},
   "cell_type": "markdown",
   "metadata": {},
   "source": [
    "## Ejercicio 6\n",
    "Mismo programa que en 5, pero en esta ocasión tienen que ser tres inputs y dos salidas. Una de las salidas que nos indique si todos son iguales, y la otra si al menos dos inputs sí que lo son"
   ]
  },
  {
   "cell_type": "code",
   "execution_count": 21,
   "metadata": {},
   "outputs": [
    {
     "name": "stdout",
     "output_type": "stream",
     "text": [
      "Son todas las variables iguales? True\n",
      "Son al menos dos variables iguales? True\n"
     ]
    }
   ],
   "source": [
    "input1 = input(\"Escribe el nombre de la variable que deseas comparar\")\n",
    "input2 = input(\"Escribe el nombre de la variable que deseas comparar\")\n",
    "input3 = input(\"Escribe el nombre de la variable que deseas comparar\")\n",
    "\n",
    "\n",
    "print(\"Son todas las variables iguales?\", input1 == input2 == input3)\n",
    "print(\"Son al menos dos variables iguales?\", input1 == input2 or input2 == input3 or input3 == input1)"
   ]
  },
  {
   "attachments": {},
   "cell_type": "markdown",
   "metadata": {},
   "source": [
    "## Ejercicio 7\n",
    "Crea un programa que recoja dos inputs. Tiene que comprobar si su suma es igual, superior o inferior a 10"
   ]
  },
  {
   "cell_type": "code",
   "execution_count": 3,
   "metadata": {},
   "outputs": [
    {
     "ename": "NameError",
     "evalue": "name 'intput' is not defined",
     "output_type": "error",
     "traceback": [
      "\u001b[31m---------------------------------------------------------------------------\u001b[39m",
      "\u001b[31mNameError\u001b[39m                                 Traceback (most recent call last)",
      "\u001b[36mCell\u001b[39m\u001b[36m \u001b[39m\u001b[32mIn[3]\u001b[39m\u001b[32m, line 1\u001b[39m\n\u001b[32m----> \u001b[39m\u001b[32m1\u001b[39m vsuma1 = \u001b[38;5;28mfloat\u001b[39m (\u001b[43mintput\u001b[49m (\u001b[33m\"\u001b[39m\u001b[33mescirba el valor que desea comprobar\u001b[39m\u001b[33m\"\u001b[39m))\n\u001b[32m      2\u001b[39m vsuma2 = \u001b[38;5;28mfloat\u001b[39m (intput (\u001b[33m\"\u001b[39m\u001b[33mescirba el valor que desea comprobar\u001b[39m\u001b[33m\"\u001b[39m))\n\u001b[32m      4\u001b[39m vsumada = vsuma1 + vsuma2\n",
      "\u001b[31mNameError\u001b[39m: name 'intput' is not defined"
     ]
    }
   ],
   "source": [
    "vsuma1 = float (intput (\"escirba el valor que desea comprobar\"))\n",
    "vsuma2 = float (intput (\"escirba el valor que desea comprobar\"))\n",
    "\n",
    "vsumada = vsuma1 + vsuma2\n",
    "\n",
    "if vsumada < 10:\n",
    "    print(\"Menor que 10\")\n",
    "elif vsumada == 10:\n",
    "    print(\"Igual a 10\")\n",
    "elif vsumada > 10:\n",
    "    print(\"Mayor que 10\")"
   ]
  },
  {
   "attachments": {},
   "cell_type": "markdown",
   "metadata": {},
   "source": [
    "## Ejercicio 8\n",
    "Razona sin ejecutar código el output que obtendremos de las siguientes sentencias\n",
    "1. True and True and False\n",
    "2. not ((True or False) and (True or False))\n",
    "3. (False or False or False or True) and False\n",
    "4. not False and True and not True"
   ]
  },
  {
   "attachments": {},
   "cell_type": "markdown",
   "metadata": {},
   "source": [
    "1. False\n",
    "2. Falso\n",
    "3. False\n",
    "4. False"
   ]
  },
  {
   "attachments": {},
   "cell_type": "markdown",
   "metadata": {},
   "source": [
    "## Ejercicio 9\n",
    "Para este ejercicio vamos a poner en práctica [las funciones built in](https://docs.python.org/3/library/functions.html).\n",
    "\n",
    "1. Calcula el máximo de la lista: [4, 6, 8, -1]\n",
    "2. Suma todos los elementos de la lista anterior\n",
    "3. Redondea este float a 3 dígitos decimales: 63.451256965\n",
    "4. Valor absoluto de: -74"
   ]
  },
  {
   "cell_type": "code",
   "execution_count": 7,
   "metadata": {},
   "outputs": [
    {
     "name": "stdout",
     "output_type": "stream",
     "text": [
      "8\n",
      "17\n",
      "63.45\n",
      "74\n"
     ]
    }
   ],
   "source": [
    "lista1 = [4, 6, 8, -1]\n",
    "print(max(lista1))\n",
    "print(sum(lista1))\n",
    "print(round(63.451256965, 2))\n",
    "print(abs(-74))"
   ]
  },
  {
   "attachments": {},
   "cell_type": "markdown",
   "metadata": {},
   "source": [
    "## Ejercicio 10\n",
    "Para el siguiente string se pide imprimir por pantalla los siguientes casos\n",
    "\n",
    "    \"En un lugar de la Mancha, de cuyo nombre no quiero acordarme.\"\n",
    "\n",
    "1. Pásalo todo a mayúsculas\n",
    "2. Pásalo todo a minúsculas\n",
    "3. Solo la primera letra de cada palabra en mayúscula, el resto en minúscula\n",
    "4. Crea una lista dividiéndolo por sus espacios\n",
    "5. Sustituye las comas `,` por puntos y comas `;`\n",
    "6. Elimina las `a` minúsculas"
   ]
  },
  {
   "cell_type": "code",
   "execution_count": 8,
   "metadata": {},
   "outputs": [
    {
     "name": "stdout",
     "output_type": "stream",
     "text": [
      "EN UN LUGAR DE LA MANCHA, DE CUYO NOMBRE NO QUIERO ACORDARME.\n",
      "en un lugar de la mancha, de cuyo nombre no quiero acordarme.\n",
      "En Un Lugar De La Mancha, De Cuyo Nombre No Quiero Acordarme.\n",
      "En un lugar de la Mancha; de cuyo nombre no quiero acordarme.\n",
      "En un lugr de l Mnch, de cuyo nombre no quiero cordrme.\n"
     ]
    }
   ],
   "source": [
    "quijote = \"En un lugar de la Mancha, de cuyo nombre no quiero acordarme.\"\n",
    "print(quijote.upper())\n",
    "print(quijote.lower())\n",
    "print(quijote.title())\n",
    "print(quijote.replace(\",\",\";\"))\n",
    "print(quijote.replace(\"a\",\"\"))"
   ]
  },
  {
   "attachments": {},
   "cell_type": "markdown",
   "metadata": {},
   "source": [
    "## Ejercicio 11\n",
    "1. Crea una lista con 3 elementos numéricos\n",
    "2. Añade un cuarto elemento\n",
    "3. Calcula la suma de todos\n",
    "4. Elimina el segundo elemento de la lista\n",
    "5. Añade otro elemento en la posicion 3 de la lista\n",
    "6. Crea otra lista con 4 elementos y concaténala a la que ya tenías."
   ]
  },
  {
   "cell_type": "code",
   "execution_count": 19,
   "metadata": {},
   "outputs": [
    {
     "name": "stdout",
     "output_type": "stream",
     "text": [
      "18\n",
      "[1, 5, 3, 3, 1, 5, 6, 0]\n"
     ]
    }
   ],
   "source": [
    "lista_nueva = [1,5,9]\n",
    "lista_nueva.append (3)\n",
    "print(sum(lista_nueva))\n",
    "lista_nueva.pop(2)\n",
    "lista_nueva.insert(3, 3)\n",
    "lista_nueva2 = [1,5,6,0]\n",
    "print(lista_nueva + lista_nueva2)"
   ]
  },
  {
   "cell_type": "code",
   "execution_count": null,
   "metadata": {},
   "outputs": [],
   "source": []
  }
 ],
 "metadata": {
  "kernelspec": {
   "display_name": "Python 3",
   "language": "python",
   "name": "python3"
  },
  "language_info": {
   "codemirror_mode": {
    "name": "ipython",
    "version": 3
   },
   "file_extension": ".py",
   "mimetype": "text/x-python",
   "name": "python",
   "nbconvert_exporter": "python",
   "pygments_lexer": "ipython3",
   "version": "3.13.3"
  }
 },
 "nbformat": 4,
 "nbformat_minor": 4
}
