{
 "cells": [
  {
   "cell_type": "markdown",
   "metadata": {
    "id": "L-leJXpqGSZK"
   },
   "source": [
    "![TheBridge_Python_v0.png](attachment:TheBridge_Python_v0.png)"
   ]
  },
  {
   "cell_type": "markdown",
   "metadata": {
    "id": "q65G8kz-GSZO"
   },
   "source": [
    "##  Funciones de usuario I   \n"
   ]
  },
  {
   "cell_type": "markdown",
   "metadata": {
    "id": "cXVjt7hVGSZQ"
   },
   "source": [
    "### Contenidos\n"
   ]
  },
  {
   "cell_type": "markdown",
   "metadata": {
    "id": "uj9B8XLQGSZS"
   },
   "source": [
    "* [Introducción  ](#Introducción--)\n",
    "\n",
    "* [Ejemplos](#Ejemplos)\n",
    "\n"
   ]
  },
  {
   "cell_type": "markdown",
   "metadata": {
    "id": "Q6S9jUA6GSZU"
   },
   "source": [
    "### Introducción  \n",
    "[al indice](#Contenidos)  \n",
    "\n",
    "\n",
    "En este notebook tienes la primera parte de una guía para orientarte en el uso de funciones en Python... pero antes de seguir con todo el \"rollo...\"\n",
    "\n",
    "\n"
   ]
  },
  {
   "cell_type": "markdown",
   "metadata": {
    "id": "jDgl2AzlGSZV"
   },
   "source": [
    "### Contenidos"
   ]
  },
  {
   "cell_type": "code",
   "execution_count": null,
   "metadata": {},
   "outputs": [],
   "source": [
    "\"\"\"\n",
    "Linea1\n",
    "CODIGO_ANALIZA\n",
    "Linea2\n",
    "CODIGO_ANALIZA\n",
    "Linea3\n",
    "CODIGO_ANALIZA\n",
    "Linea4\n",
    "CODIGO_ANALIZA\n",
    "\"\"\"\n",
    "\"\"\"\n",
    "CODIGO_ANALIZA\n",
    "Codigo\n",
    "\"\"\""
   ]
  },
  {
   "cell_type": "markdown",
   "metadata": {
    "id": "SAu6AfqRGSZW"
   },
   "source": [
    "\n",
    "### Definición y sintaxis\n",
    "\n",
    "Se trata de bloques de código que encapsulan una serie de operaciones. Se usan para modular nuestro código y evitar escribir código de más.  \n",
    "\n",
    "Mediante las **funciones** podemos encapsular código en formato entrada/salida. Por lo que si tienes un código repetitivo, que depende de ciertos inputs, las funciones pueden ser una buena solución.\n",
    "\n",
    "![funciones.png](./img/funciones.png)\n",
    "\n",
    "Es una manera de agrupar conjuntos de operaciones en módulos. **¿Cuándo usarlas?** Cuando tengamos varias operaciones que ejecutamos repetidamente en distintas partes del código. En ese caso, encapsulamos las operaciones en una función, y cada vez que haya que realizar tal operativa, llamamos a la función, y en una sola línea de código tenemos ejecutada esas operaciones.\n",
    "\n",
    "Hasta ahora hemos estado utilizando funciones *built-in*, para operaciones sencillas como `len()`, `sum()` o `max()`. En este Notebook aprenderas a crear tus propias funciones.\n",
    "\n",
    "La sintaxis es:\n",
    "> ```Python\n",
    "> def nombre_funcion(entrada):\n",
    ">    operaciones varias\n",
    ">    return output\n",
    "> ```\n",
    "\n",
    "Fíjate que sigue la **sintaxis de línea** vista en Notebooks anteriores (tabulación detrás de los dos puntos, por ejemplo).  \n",
    "\n",
    "Además, todo lo que va después del `return` es ignorado, puesto que es la salida. En el `return` acaba la función. Ahora bien, eso no quiere decir que haya un único return. Si introducimos una sentencia `if/else`, podremos poner returns diferentes dependiendo de qué condición se cumpla."
   ]
  },
  {
   "cell_type": "markdown",
   "metadata": {
    "id": "dqVyrkURGSZY"
   },
   "source": [
    "### Ejemplos\n",
    "[al indice](#Contenidos)  \n",
    "\n",
    "\n",
    "Vamos a crear nuestra primera función"
   ]
  },
  {
   "cell_type": "code",
   "execution_count": 20,
   "metadata": {
    "id": "T7Z9jS19GSZa"
   },
   "outputs": [],
   "source": [
    "# Vamos a crear un conversor de km a millas\n",
    "def conversor_km_millas(kilometros):\n",
    "    millas = 0.62 * kilometros\n",
    "    return round(millas,1)"
   ]
  },
  {
   "cell_type": "markdown",
   "metadata": {
    "id": "8SG2bEPwGSZd"
   },
   "source": [
    "Al ejecutar el código anterior, no corre nada, simplemente almacenamos en memoria la función para usarla posteriormente. **Ahora podremos llamar a la función tantas veces como queramos, desde cualquier parte del codigo.**"
   ]
  },
  {
   "cell_type": "code",
   "execution_count": 23,
   "metadata": {
    "id": "-yOJtVBOGSZd",
    "scrolled": true
   },
   "outputs": [
    {
     "data": {
      "text/plain": [
       "1371.4"
      ]
     },
     "execution_count": 23,
     "metadata": {},
     "output_type": "execute_result"
    }
   ],
   "source": [
    "conversor_km_millas(2212)\n"
   ]
  },
  {
   "cell_type": "code",
   "execution_count": 39,
   "metadata": {},
   "outputs": [
    {
     "data": {
      "text/plain": [
       "124.0"
      ]
     },
     "execution_count": 39,
     "metadata": {},
     "output_type": "execute_result"
    }
   ],
   "source": [
    "millas = conversor_km_millas (200)\n",
    "millas"
   ]
  },
  {
   "cell_type": "markdown",
   "metadata": {
    "id": "3cOI0bkOGSZe"
   },
   "source": [
    "Las funciones no tienen por qué llevar argumentos. Eso sí, **es obligatorio** poner los parentesis, tanto en la declaración, como luego al llamar la función."
   ]
  },
  {
   "cell_type": "code",
   "execution_count": 38,
   "metadata": {
    "id": "pAwQ4yTHGSZf"
   },
   "outputs": [
    {
     "data": {
      "text/plain": [
       "datetime.time(21, 10, 46, 616202)"
      ]
     },
     "execution_count": 38,
     "metadata": {},
     "output_type": "execute_result"
    }
   ],
   "source": [
    "from datetime import datetime\n",
    "\n",
    "def que_hora_es():\n",
    "    now = datetime.now().time()\n",
    "    return now\n",
    "\n",
    "que_hora_es()"
   ]
  },
  {
   "cell_type": "code",
   "execution_count": 37,
   "metadata": {
    "id": "dHtZRb1jGSZg"
   },
   "outputs": [
    {
     "data": {
      "text/plain": [
       "datetime.time(21, 9, 40, 80012)"
      ]
     },
     "execution_count": 37,
     "metadata": {},
     "output_type": "execute_result"
    }
   ],
   "source": [
    "que_hora_es()"
   ]
  },
  {
   "cell_type": "code",
   "execution_count": 45,
   "metadata": {},
   "outputs": [
    {
     "ename": "TypeError",
     "evalue": "'float' object is not callable",
     "output_type": "error",
     "traceback": [
      "\u001b[31m---------------------------------------------------------------------------\u001b[39m",
      "\u001b[31mTypeError\u001b[39m                                 Traceback (most recent call last)",
      "\u001b[36mCell\u001b[39m\u001b[36m \u001b[39m\u001b[32mIn[45]\u001b[39m\u001b[32m, line 5\u001b[39m\n\u001b[32m      2\u001b[39m     now = datetime.now().time()\n\u001b[32m      3\u001b[39m     \u001b[38;5;28mprint\u001b[39m (now) \n\u001b[32m----> \u001b[39m\u001b[32m5\u001b[39m \u001b[43mque_hora_es\u001b[49m\u001b[43m(\u001b[49m\u001b[43m)\u001b[49m\n",
      "\u001b[36mCell\u001b[39m\u001b[36m \u001b[39m\u001b[32mIn[45]\u001b[39m\u001b[32m, line 3\u001b[39m, in \u001b[36mque_hora_es\u001b[39m\u001b[34m()\u001b[39m\n\u001b[32m      1\u001b[39m \u001b[38;5;28;01mdef\u001b[39;00m\u001b[38;5;250m \u001b[39m\u001b[34mque_hora_es\u001b[39m():\n\u001b[32m      2\u001b[39m     now = datetime.now().time()\n\u001b[32m----> \u001b[39m\u001b[32m3\u001b[39m     \u001b[38;5;28;43mprint\u001b[39;49m\u001b[43m \u001b[49m\u001b[43m(\u001b[49m\u001b[43mnow\u001b[49m\u001b[43m)\u001b[49m\n",
      "\u001b[31mTypeError\u001b[39m: 'float' object is not callable"
     ]
    }
   ],
   "source": [
    "def que_hora_es():\n",
    "    now = datetime.now().time()\n",
    "    print (now) \n",
    "\n",
    "que_hora_es()"
   ]
  },
  {
   "cell_type": "code",
   "execution_count": null,
   "metadata": {},
   "outputs": [],
   "source": []
  }
 ],
 "metadata": {
  "colab": {
   "provenance": []
  },
  "kernelspec": {
   "display_name": "Python 3 (ipykernel)",
   "language": "python",
   "name": "python3"
  },
  "language_info": {
   "codemirror_mode": {
    "name": "ipython",
    "version": 3
   },
   "file_extension": ".py",
   "mimetype": "text/x-python",
   "name": "python",
   "nbconvert_exporter": "python",
   "pygments_lexer": "ipython3",
   "version": "3.13.3"
  }
 },
 "nbformat": 4,
 "nbformat_minor": 4
}
