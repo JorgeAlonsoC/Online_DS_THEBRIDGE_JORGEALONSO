{
 "cells": [
  {
   "cell_type": "markdown",
   "metadata": {
    "id": "vigJnuAMSU4x"
   },
   "source": [
    "![TheBridge_logo_RGB_color.jpg](attachment:TheBridge_logo_RGB_color.jpg)"
   ]
  },
  {
   "cell_type": "markdown",
   "metadata": {
    "id": "2xmnwM17SU4y"
   },
   "source": [
    "![ejercicios.png](attachment:ejercicios.png)"
   ]
  },
  {
   "cell_type": "markdown",
   "metadata": {
    "id": "liorA-1ZSU4y"
   },
   "source": [
    "# Ejercicios Clases y Objetos"
   ]
  },
  {
   "cell_type": "markdown",
   "metadata": {
    "id": "5xXUz5l9SU4z"
   },
   "source": [
    "## Ejercicio 1\n",
    "Somos una empresa que tiene varias tiendas de electrodomesticos. Necesitamos un programa para manejar las tiendas, ver las ventas que han tenido, cuántos empleados hay, etc... Para ello vamos a modelizar la tienda en una clase, que tendrá las siguientes características:\n",
    "* Nombre clase: \"Tienda\"\n",
    "* Atributos comunes:\n",
    "    * Tipo: \"Electrodomésticos\"\n",
    "    * Abierta: True\n",
    "* Atributos propios de cada tienda:\n",
    "    * Nombre - String\n",
    "    * Dirección - String\n",
    "    * Número de empleados - int\n",
    "    * Ventas ultimos 3 meses - Lista de 3 numeros\n",
    "* Método para calcular las ventas de todos los meses, que devuelva un numero con todas las ventas.\n",
    "* Método que calcula la media de ventas de los ultimos meses, por empleado\n",
    "* Método que devuelve en un string el nombre de la tienda, junto con su dirección.\n",
    "* Método que obtiene las ventas del último mes.\n",
    "* Método para dar una proyección de las ventas en caso de haber invertido X dinero en marketing en esa tienda. Siendo X el parámetro de entrada. Si X es menor de 1000, las ventas de los ultimos 3 meses hubiesen sido de (1.2 x ventas), si es mayor o igual de 1000, las ventas hubiesen sido de (1.5 x venta). El método reescribe el atributo de ventas en los últimos 3 meses, y además devuelve las ventas con el aumento.\n",
    "\n",
    "Se pide:\n",
    "1. Implementar la clase \"Tienda\"\n",
    "2. Crear tres tiendas con datos inventados\n",
    "3. Comprueba en al menos una de ellas, todo lo implementado en la clase tienda (sus atributos, media de ventas, ventas/empleado...)\n",
    "3. Calcular las ventas del último mes de todas las tiendas. Para ello usa el bucle `for`\n",
    "4. Imprime por pantalla los nombres de las tiendas cuya dirección lleve el string \"Avenida\"\n",
    "5. Seguro que ya has hecho este apartado... Documenta la clase :)"
   ]
  },
  {
   "cell_type": "code",
   "execution_count": 17,
   "metadata": {
    "id": "5cLQcLxfSU4z"
   },
   "outputs": [],
   "source": [
    "class tienda:\n",
    "    tipo = \"Electrodomesticos\"\n",
    "    abierta = True\n",
    "    def __init__ (self, nombre, direccion, numero_empleados, ventas_3_meses):\n",
    "        self.nombre = str(nombre)\n",
    "        self.direccion = str(direccion)\n",
    "        self.empleados = int(numero_empleados)\n",
    "        self.ventas = list(ventas_3_meses)"
   ]
  },
  {
   "cell_type": "code",
   "execution_count": 22,
   "metadata": {},
   "outputs": [],
   "source": [
    "tienda1= tienda(\"Tienda_principal\", \"Calle Jorge Juan\", 10, (400,300,167))\n",
    "tienda2 = tienda(\"Tienda_ciudad\", \"Calle Bravo Murillo\", 4, (75,140,200))\n",
    "tienda3 = tienda (\"Tienda_top\", \"Avenida América\", 6, [450,500,450])"
   ]
  },
  {
   "cell_type": "code",
   "execution_count": 39,
   "metadata": {
    "scrolled": true
   },
   "outputs": [
    {
     "name": "stdout",
     "output_type": "stream",
     "text": [
      "Electrodomesticos <class 'str'>\n",
      "True <class 'bool'>\n",
      "Tienda_ciudad <class 'str'>\n",
      "Calle Bravo Murillo <class 'str'>\n",
      "Número de empleados: 4 <class 'int'>\n",
      "[75, 140, 200] <class 'list'>\n",
      "Ventas promedio por mes: 138.33 <class 'float'>\n",
      "Ventas promedio en los últimos 3 meses por empleado: 103.75 <class 'float'>\n"
     ]
    }
   ],
   "source": [
    "print(tienda2.tipo, type(tienda2.tipo))\n",
    "print(tienda2.abierta, type(tienda2.abierta))\n",
    "print(tienda2.nombre, type(tienda2.nombre))\n",
    "print(tienda2.direccion, type(tienda2.direccion))\n",
    "print(\"Número de empleados:\", tienda2.empleados, type(tienda2.empleados))\n",
    "print(tienda2.ventas, type(tienda2.ventas))\n",
    "ventas_promedio = sum(tienda2.ventas) / len(tienda2.ventas)\n",
    "print(\"Ventas promedio por mes:\", round(ventas_promedio, 2), type(ventas_promedio))\n",
    "ventas_por_empleado = sum(tienda2.ventas) / tienda2.empleados\n",
    "print(\"Ventas promedio en los últimos 3 meses por empleado:\", round(ventas_por_empleado, 2), type(ventas_por_empleado))"
   ]
  },
  {
   "cell_type": "code",
   "execution_count": 41,
   "metadata": {},
   "outputs": [
    {
     "name": "stdout",
     "output_type": "stream",
     "text": [
      "817 <class 'int'>\n"
     ]
    }
   ],
   "source": [
    "#ventas totales de todas las tiendas el último mes\n",
    "ventas_ultimo_mes = tienda1.ventas[-1] + tienda2.ventas[-1] + tienda3.ventas[-1]\n",
    "print(ventas_ultimo_mes, type(ventas_ultimo_mes))"
   ]
  },
  {
   "cell_type": "code",
   "execution_count": 66,
   "metadata": {},
   "outputs": [
    {
     "name": "stdout",
     "output_type": "stream",
     "text": [
      "La tienda Tienda_principal no está ubicada en ninguna avenida\n",
      "La tienda Tienda_ciudad no está ubicada en ninguna avenida\n",
      "La tienda Tienda_top esta ubicada en Avenida América\n"
     ]
    }
   ],
   "source": [
    "tienda = [tienda1, tienda2, tienda3]\n",
    "\n",
    "for tienda in tiendas:\n",
    "    if \"Avenida\" in tienda.direccion:\n",
    "        print(\"La tienda\", tienda.nombre,\"esta ubicada en\", tienda.direccion)\n",
    "    else:\n",
    "        print(\"La tienda\", tienda.nombre, \"no está ubicada en ninguna avenida\")"
   ]
  },
  {
   "cell_type": "markdown",
   "metadata": {
    "id": "WEBq7EpsSU40"
   },
   "source": [
    "## Ejercicio 2\n",
    "En este ejercicio vamos a implementar una clase *Perro* en Python. La clase tiene las siguientes características:\n",
    "* Cosas que sabemos seguro que tiene un perro\n",
    "    * Tiene 4 patas\n",
    "    * 2 orejas\n",
    "    * 2 ojos\n",
    "    * Una velocidad de 0. Por defecto, el perro está parado\n",
    "* Cuando se inicialice:\n",
    "    * El perro será de una determinada raza\n",
    "    * Por defecto tendrá pelo \"Marrón\", a no ser que se diga lo contrario.\n",
    "    * Por defecto no tendrá dueño, a no ser que se diga lo contrario.\n",
    "    \n",
    "* Dispondrá también de un método llamado andar, que tiene un argumento de entrada (aumento_velocidad). Este valor se le sumará a la velocidad que ya llevaba el perro.\n",
    "* Necesita otro método (parar), donde pondremos la velocidad a 0.\n",
    "* Otro método llamado \"ladrar\", que tendrá un argumento de entrada, y la salida será el siguiente string: \"GUAU!\" + el argumento de entrada.\n",
    "\n",
    "\n",
    "Se pide:\n",
    "* Implementa la clase *Perro*\n",
    "* Crea un objeto de tipo *Perro*, sin dueño\n",
    "* Comprueba que están bien todos sus atributos\n",
    "* Prueba que ande, y comprueba su velocidad\n",
    "* Páralo\n",
    "* Documenta la clase *Perro*"
   ]
  },
  {
   "cell_type": "code",
   "execution_count": 112,
   "metadata": {
    "id": "DpEWvbwGSU40"
   },
   "outputs": [],
   "source": [
    "class perro:\n",
    "    patas = 4\n",
    "    orejas = 2\n",
    "    ojos = 2\n",
    "    velocidad = 0\n",
    "    def __init__ (self, raza, color_pelo = \"Marron\", propietario = \"No\"):\n",
    "        self.raza = raza\n",
    "        self.color = color_pelo\n",
    "        self.propietario = propietario\n",
    "\n",
    "    def andar (self, velocidad_movimiento):\n",
    "        self.velocidad = velocidad_movimiento\n",
    "        print(\"El perro va a\", self.velocidad, \"km/h\")\n",
    "\n",
    "    def parar (self):\n",
    "        self.velocidad = 0\n",
    "        print (\"La velocidad de perro es\", self.velocidad,\"km/h, ya que se ha detenido\")\n",
    "    \n",
    "    def ladrar (self):\n",
    "        print(\"GUAU!\")\n",
    "        "
   ]
  },
  {
   "cell_type": "code",
   "execution_count": 113,
   "metadata": {},
   "outputs": [
    {
     "name": "stdout",
     "output_type": "stream",
     "text": [
      "Número de patas: 4\n",
      "Número de orejas: 2\n",
      "Número de ojos: 2\n",
      "Velocidad: 0\n",
      "Raza: Labrador\n",
      "Color de pelo: Marron\n",
      "Tiene dueño? No\n"
     ]
    }
   ],
   "source": [
    "perro1 = perro(\"Labrador\")\n",
    "print(\"Número de patas:\", perro1.patas)\n",
    "print(\"Número de orejas:\",perro1.orejas)\n",
    "print(\"Número de ojos:\", perro1.ojos)\n",
    "print(\"Velocidad:\", perro1.velocidad)\n",
    "print(\"Raza:\", perro1.raza)\n",
    "print(\"Color de pelo:\", perro1.color)\n",
    "print(\"Tiene dueño?\",perro1.propietario)"
   ]
  },
  {
   "cell_type": "code",
   "execution_count": 114,
   "metadata": {},
   "outputs": [
    {
     "name": "stdout",
     "output_type": "stream",
     "text": [
      "GUAU!\n"
     ]
    }
   ],
   "source": [
    "perro1.ladrar()"
   ]
  },
  {
   "cell_type": "code",
   "execution_count": 115,
   "metadata": {},
   "outputs": [
    {
     "name": "stdout",
     "output_type": "stream",
     "text": [
      "El perro va a 15 km/h\n"
     ]
    }
   ],
   "source": [
    "perro1.andar(15)"
   ]
  },
  {
   "cell_type": "code",
   "execution_count": 116,
   "metadata": {},
   "outputs": [
    {
     "name": "stdout",
     "output_type": "stream",
     "text": [
      "La velocidad de perro es 0 km/h, ya que se ha detenido\n"
     ]
    }
   ],
   "source": [
    "perro1.parar()"
   ]
  },
  {
   "cell_type": "code",
   "execution_count": null,
   "metadata": {},
   "outputs": [],
   "source": []
  }
 ],
 "metadata": {
  "colab": {
   "provenance": []
  },
  "kernelspec": {
   "display_name": "Python 3 (ipykernel)",
   "language": "python",
   "name": "python3"
  },
  "language_info": {
   "codemirror_mode": {
    "name": "ipython",
    "version": 3
   },
   "file_extension": ".py",
   "mimetype": "text/x-python",
   "name": "python",
   "nbconvert_exporter": "python",
   "pygments_lexer": "ipython3",
   "version": "3.13.3"
  }
 },
 "nbformat": 4,
 "nbformat_minor": 4
}
