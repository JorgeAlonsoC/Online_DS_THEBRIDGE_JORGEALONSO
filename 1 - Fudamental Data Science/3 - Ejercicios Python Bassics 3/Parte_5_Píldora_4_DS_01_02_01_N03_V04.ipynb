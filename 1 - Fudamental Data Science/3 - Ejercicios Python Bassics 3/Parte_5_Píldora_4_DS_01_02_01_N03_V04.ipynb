{
 "cells": [
  {
   "cell_type": "markdown",
   "metadata": {
    "id": "S8sWAJux1Zy5"
   },
   "source": [
    "![TheBridge_Python_v0.png](attachment:TheBridge_Python_v0.png)"
   ]
  },
  {
   "cell_type": "markdown",
   "metadata": {
    "id": "j5U0jgND1Zy8"
   },
   "source": [
    "## Colecciones Python: Diccionarios\n"
   ]
  },
  {
   "cell_type": "markdown",
   "metadata": {
    "id": "eTjVlgte1Zy9"
   },
   "source": [
    "### Contenidos\n"
   ]
  },
  {
   "cell_type": "markdown",
   "metadata": {
    "id": "PWUCfNPr1Zy-"
   },
   "source": [
    "* [Introducción](#Introducción)\n",
    "\n",
    "* [Acceso, modificación, añadir, eliminar](#Acceso,-modificación,-añadir,-eliminar)\n",
    "\n",
    "* [Iterar](#Iterar)\n",
    "\n"
   ]
  },
  {
   "cell_type": "markdown",
   "metadata": {
    "id": "XLXh-h2u1Zy_"
   },
   "source": [
    "### Introducción\n",
    "[al indice](#Contenidos)  \n",
    "\n",
    "En este tipo de colecciones no solo podemos agrupar datos, sino que tenemos la posibilidad de establecer una relación entre los mismos, con la forma **clave: valor**.\n",
    "\n",
    "La sintaxis  es mediante llaves `{}`\n",
    "\n",
    "> nombre_diccionario = {clave1: valor1, clave2: valor2, clave3: valor3}\n",
    "\n",
    "Si veíamos que las listas son elementos mutables y y ordenadas, y las tuplas inmutables y ordenadas, los diccionarios son:\n",
    "\n",
    "* **Mutables**: podemos modificar sus elementos\n",
    "* **Desordenado**: la potencia de acceso de los diccionarios es su formato clave-valor, no su orden. Aun así, el dicionario conserva el orden de los elemento según los vamos insertando.\n",
    "\n",
    "Vamos a declarar un diccionario en el que definiremos elementos de un coche"
   ]
  },
  {
   "cell_type": "code",
   "execution_count": 2,
   "metadata": {
    "id": "KhTW0WOD1ZzA"
   },
   "outputs": [
    {
     "data": {
      "text/plain": [
       "{'color': 'rojo',\n",
       " 'marca': 'tesla',\n",
       " 'modelo': 'Cybertuck',\n",
       " 'peso': 3500,\n",
       " 'cambio de neumatico': True}"
      ]
     },
     "execution_count": 2,
     "metadata": {},
     "output_type": "execute_result"
    }
   ],
   "source": [
    "coche_dict = {\n",
    "    \"color\":\"rojo\",\n",
    "    \"marca\":\"tesla\",\n",
    "    \"modelo\":\"Cybertuck\",\n",
    "    \"peso\":3500,\n",
    "    \"cambio de neumatico\": True\n",
    "}\n",
    "coche_dict"
   ]
  },
  {
   "cell_type": "markdown",
   "metadata": {
    "id": "frgcn-kP1ZzC"
   },
   "source": [
    "Se puede almacenar todo tipo de datos: numero, cadena, booleano, listas, tuplas, diccionarios...\n",
    "\n",
    "Cuando declaremos el diccionario, lo podemos hacer en una sola linea `coche = {\"color\"=\"Gris\", \"marca\"...}`, aunque se recomienda por sencillez a la hora de leer el código, realizar esta acción en varias líneas. Si escribimos el primer elemento y presionamos enter, Jupyter introduce automáticamente la tabulación."
   ]
  },
  {
   "cell_type": "markdown",
   "metadata": {
    "id": "I7YlzYHv1ZzD"
   },
   "source": [
    "### Acceso, modificación, añadir, eliminar\n",
    "[al indice](#Contenidos)  \n",
    "\n"
   ]
  },
  {
   "cell_type": "code",
   "execution_count": 18,
   "metadata": {
    "id": "tGNThUrO1ZzE"
   },
   "outputs": [
    {
     "name": "stdout",
     "output_type": "stream",
     "text": [
      "['rojo', 'gris']\n",
      "3500\n",
      "{'color': ['rojo', 'gris'], 'marca': 'tesla', 'modelo': 'Cybertuck', 'peso': 3500, 'cambio de neumatico': True}\n",
      "{'color': ['rojo', 'gris'], 'marca': 'tesla', 'modelo': 'Cybertuck', 'peso': 3500, 'cambio de neumatico': True, 'puertas': 6}\n",
      "6\n",
      "{'color': ['rojo', 'gris'], 'marca': 'tesla', 'modelo': 'Cybertuck', 'peso': 3500, 'cambio de neumatico': True}\n",
      "dict_keys(['color', 'marca', 'modelo', 'peso', 'cambio de neumatico'])\n",
      "dict_values([['rojo', 'gris'], 'tesla', 'Cybertuck', 3500, True])\n"
     ]
    }
   ],
   "source": [
    "print(coche_dict[\"color\"])\n",
    "print(coche_dict[\"peso\"])\n",
    "\n",
    "#cambiar valores\n",
    "coche_dict[\"color\"] = [\"rojo\", \"gris\"]\n",
    "print(coche_dict)\n",
    "\n",
    "#añadir elemento\n",
    "coche_dict [\"puertas\"] = 6\n",
    "print(coche_dict)\n",
    "\n",
    "#consultar claves y su valir\n",
    "print(coche_dict[\"puertas\"])\n",
    "\n",
    "#Eleminar elemento\n",
    "del coche_dict[\"puertas\"]\n",
    "print (coche_dict)\n",
    "\n",
    "#Conocer claves del dicccionario\n",
    "print(coche_dict.keys())\n",
    "\n",
    "#conocer los valores del diccionarios\n",
    "print(coche_dict.values())"
   ]
  },
  {
   "cell_type": "markdown",
   "metadata": {
    "id": "3iuazEjo1ZzF"
   },
   "source": [
    "Para más detalle de los métodos de los diccionario puedes [consultar la documentación](https://www.w3schools.com/python/python_ref_dictionary.asp)"
   ]
  },
  {
   "cell_type": "code",
   "execution_count": 20,
   "metadata": {
    "id": "hiV5KyX91ZzH"
   },
   "outputs": [
    {
     "name": "stdout",
     "output_type": "stream",
     "text": [
      "{'direccion': 'Ramon y Cajal', 'tamaño': 'Muy pequeña'}\n"
     ]
    }
   ],
   "source": [
    "# Podemos empezar tambien mediante un diccionario vacío\n",
    "tienda = {}\n",
    "tienda[\"direccion\"] = \"Ramon y Cajal\"\n",
    "tienda[\"tamaño\"] = \"Muy pequeña\"\n",
    "print(tienda)"
   ]
  },
  {
   "cell_type": "markdown",
   "metadata": {
    "id": "mfAms-EG1ZzI"
   },
   "source": [
    "<table align=\"left\">\n",
    " <tr>\n",
    "     <td style=\"text-align:left\">\n",
    "         <h3>ERRORES en diccionarios</h3>\n",
    "         \n",
    " </td></tr>\n",
    "</table>"
   ]
  },
  {
   "cell_type": "markdown",
   "metadata": {
    "id": "f52krIIg1ZzI"
   },
   "source": [
    "Si hay una clave que no existe en el diccionario, saltará un error.\n",
    "\n",
    "En este caso, el error es bastante intuitivo: `KeyError`, no encuentra la clave"
   ]
  },
  {
   "cell_type": "code",
   "execution_count": 30,
   "metadata": {
    "id": "TyA03Mmw1ZzK"
   },
   "outputs": [
    {
     "data": {
      "text/plain": [
       "{'color': 'rojo',\n",
       " 'marca': 'tesla',\n",
       " 'modelo': 'Cybertuck',\n",
       " 'peso': 3500,\n",
       " 'cambio de neumatico': True}"
      ]
     },
     "execution_count": 30,
     "metadata": {},
     "output_type": "execute_result"
    }
   ],
   "source": [
    "coche_dict = {\n",
    "    \"color\":\"rojo\",\n",
    "    \"marca\":\"tesla\",\n",
    "    \"modelo\":\"Cybertuck\",\n",
    "    \"peso\":3500,\n",
    "    \"cambio de neumatico\": True\n",
    "}\n",
    "coche_dict"
   ]
  },
  {
   "cell_type": "markdown",
   "metadata": {
    "id": "S4VcRq1U1ZzK"
   },
   "source": [
    "**¿Cómo solventar esto?** Sirmpre tienes la opción de usar el bloque `try/except`, pero en este caso, los diccionarios tienen una solución más elegante: `mi_diccionario.get(clave, valor si no existe)`"
   ]
  },
  {
   "cell_type": "code",
   "execution_count": 31,
   "metadata": {
    "id": "8-IoU83u1ZzL"
   },
   "outputs": [
    {
     "name": "stdout",
     "output_type": "stream",
     "text": [
      "4\n",
      "marca\n"
     ]
    }
   ],
   "source": [
    "numero_de_puertas = coche_dict.get(\"puertas\",4)   #lo que indica esto es que si no existe me devuelve 4\n",
    "print(numero_de_puertas)\n",
    "marca=coche_dict.get(\"marca\", \"desconocida\")\n",
    "print(\"marca\")"
   ]
  },
  {
   "cell_type": "markdown",
   "metadata": {
    "id": "1lum-X4n1ZzL"
   },
   "source": [
    "### Iterar\n",
    "[al indice](#Contenidos)  \n",
    "\n",
    "Que el diccionario no esté ordenado, no quiere decir que no podamos iterar sus elementos, ya que también es un **interable**, como los son las listas o las tuplas."
   ]
  },
  {
   "cell_type": "code",
   "execution_count": 33,
   "metadata": {
    "id": "uM9hapcu1ZzL"
   },
   "outputs": [
    {
     "name": "stdout",
     "output_type": "stream",
     "text": [
      "color\n",
      "rojo\n",
      "marca\n",
      "tesla\n",
      "modelo\n",
      "Cybertuck\n",
      "peso\n",
      "3500\n",
      "cambio de neumatico\n",
      "True\n"
     ]
    }
   ],
   "source": [
    "for i in coche_dict:\n",
    "    print (i)\n",
    "    print(coche_dict[i])"
   ]
  },
  {
   "cell_type": "code",
   "execution_count": 36,
   "metadata": {
    "scrolled": true
   },
   "outputs": [
    {
     "name": "stdout",
     "output_type": "stream",
     "text": [
      "color : rojo\n",
      "marca : tesla\n",
      "modelo : Cybertuck\n",
      "peso : 3500\n",
      "cambio de neumatico : True\n"
     ]
    }
   ],
   "source": [
    "for i in coche_dict:\n",
    "    print (i,\":\", coche_dict[i])"
   ]
  },
  {
   "cell_type": "code",
   "execution_count": 37,
   "metadata": {},
   "outputs": [
    {
     "data": {
      "text/plain": [
       "dict_items([('color', 'rojo'), ('marca', 'tesla'), ('modelo', 'Cybertuck'), ('peso', 3500), ('cambio de neumatico', True)])"
      ]
     },
     "execution_count": 37,
     "metadata": {},
     "output_type": "execute_result"
    }
   ],
   "source": [
    "coche_dict.items()"
   ]
  },
  {
   "cell_type": "code",
   "execution_count": 41,
   "metadata": {
    "id": "3chLPXGS1ZzL"
   },
   "outputs": [
    {
     "name": "stdout",
     "output_type": "stream",
     "text": [
      "color : rojo\n",
      "marca : tesla\n",
      "modelo : Cybertuck\n",
      "peso : 3500\n",
      "cambio de neumatico : True\n"
     ]
    }
   ],
   "source": [
    "for clave,valor in coche_dict.items():\n",
    "    print(clave,\":\",valor)"
   ]
  },
  {
   "cell_type": "code",
   "execution_count": null,
   "metadata": {},
   "outputs": [],
   "source": []
  }
 ],
 "metadata": {
  "colab": {
   "provenance": []
  },
  "kernelspec": {
   "display_name": "Python 3 (ipykernel)",
   "language": "python",
   "name": "python3"
  },
  "language_info": {
   "codemirror_mode": {
    "name": "ipython",
    "version": 3
   },
   "file_extension": ".py",
   "mimetype": "text/x-python",
   "name": "python",
   "nbconvert_exporter": "python",
   "pygments_lexer": "ipython3",
   "version": "3.13.3"
  }
 },
 "nbformat": 4,
 "nbformat_minor": 4
}
