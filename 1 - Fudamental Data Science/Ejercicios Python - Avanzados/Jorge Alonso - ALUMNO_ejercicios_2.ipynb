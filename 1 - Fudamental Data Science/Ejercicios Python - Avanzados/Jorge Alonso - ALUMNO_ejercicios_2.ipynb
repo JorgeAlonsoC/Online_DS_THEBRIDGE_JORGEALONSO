{
 "cells": [
  {
   "cell_type": "markdown",
   "id": "062d81e8",
   "metadata": {},
   "source": [
    "#### Ejercicio 1\n",
    "\n",
    "Disponemos de una lista con información sobre varios empleados:\n",
    "\n",
    "    empleados = [[12345, \"Juan Rodríguez\", 53, [\"Director financiero\"], 2],[56789, \"Laura Pérez\", 41, [\"CEO\", \"Director\", \"Gerente\"], 2],[88354, \"Pedro Álvarez\", 26, [\"Asistente\",\"Gestor comercial\"], 3]]\n",
    "\n",
    "Respecto de cada empleado, la lista contiene cinco elementos: en el primero almacenamos su tfno, en el segundo su nombre, en el tercero su edad, en el cuarto los puestos que ha desempeñado en la empresa (en forma de lista) y en el quinto su código postal.\n",
    "\n",
    "1. Siguiendo la misma estructura, incluye un nuevo empleado en la última posición de la lista empleados.\n",
    "\n",
    "2. Mostrar por pantalla, sin uso de funciones (salvo print) ni bucles: \n",
    "\n",
    "    - El nombre y la edad del tercer empleado de la lista empleados.\n",
    "    - Los puestos desempeñados por Pedro Álvarez, ordenados de atras a adelante (es decir, de Gestor comercial a Asistente)\n",
    "    - Si el nuevo empleado que has añadido tiene más o igual a 60 años, muestra por pantalla los puestos que el nuevo empleado haya desempeñado en la empresa. En caso contrario, muestra los puestos desempeñados por Laura Pérez y Juan Rodriguez."
   ]
  },
  {
   "cell_type": "code",
   "execution_count": 7,
   "id": "ae316b4b",
   "metadata": {},
   "outputs": [
    {
     "name": "stdout",
     "output_type": "stream",
     "text": [
      "[[12345, 'Juan Rodríguez', 53, ['Director financiero'], 2], [56789, 'Laura Pérez', 41, ['CEO', 'Director', 'Gerente'], 2], [88354, 'Pedro Álvarez', 26, ['Asistente', 'Gestor comercial'], 3], [1346, 'Jose María Rodriguez', 28, ['Director de cuentas', 'Técnico de cuentas', 'Becario'], 9]]\n",
      "Informacion del tercer empleado:  [88354, 'Pedro Álvarez', 26, ['Asistente', 'Gestor comercial'], 3]\n"
     ]
    },
    {
     "ename": "NameError",
     "evalue": "name 'empleado' is not defined",
     "output_type": "error",
     "traceback": [
      "\u001b[31m---------------------------------------------------------------------------\u001b[39m",
      "\u001b[31mNameError\u001b[39m                                 Traceback (most recent call last)",
      "\u001b[36mCell\u001b[39m\u001b[36m \u001b[39m\u001b[32mIn[7]\u001b[39m\u001b[32m, line 11\u001b[39m\n\u001b[32m      7\u001b[39m \u001b[38;5;28mprint\u001b[39m(\u001b[33m\"\u001b[39m\u001b[33mInformacion del tercer empleado: \u001b[39m\u001b[33m\"\u001b[39m, empleados[\u001b[32m2\u001b[39m])\n\u001b[32m      9\u001b[39m \u001b[38;5;66;03m#buscar pedro alvarez\u001b[39;00m\n\u001b[32m---> \u001b[39m\u001b[32m11\u001b[39m \u001b[38;5;28;01mif\u001b[39;00m \u001b[43mempleado\u001b[49m \u001b[38;5;129;01min\u001b[39;00m empleados:\n\u001b[32m     12\u001b[39m     empleados = \u001b[33m\"\u001b[39m\u001b[33mPedro Alvarez\u001b[39m\u001b[33m\"\u001b[39m\n",
      "\u001b[31mNameError\u001b[39m: name 'empleado' is not defined"
     ]
    }
   ],
   "source": [
    "empleados = [[12345, \"Juan Rodríguez\", 53, [\"Director financiero\"], 2],[56789, \"Laura Pérez\", 41, [\"CEO\", \"Director\", \"Gerente\"], 2],[88354, \"Pedro Álvarez\", 26, [\"Asistente\",\"Gestor comercial\"], 3]]\n",
    "\n",
    "empleados.append([1346, \"Jose María Rodriguez\", 28, [\"Director de cuentas\", \"Técnico de cuentas\", \"Becario\"], 9])\n",
    "\n",
    "print(empleados)\n",
    "\n",
    "print(\"Informacion del tercer empleado: \", empleados[2])\n",
    "\n",
    "#buscar pedro alvarez\n",
    "\n",
    "if empleado in empleados:\n",
    "    empleados = \"Pedro Alvarez\"\n"
   ]
  },
  {
   "cell_type": "markdown",
   "id": "4da89624-0da3-4f91-aa5c-a084c5ee1b17",
   "metadata": {},
   "source": [
    "#### Ejercicio 2. \n",
    "\n",
    "Escribe un programa que te diga si una letra es una consonante o una vocal. Crea tu propia **FUNCIÓN**\n"
   ]
  },
  {
   "cell_type": "code",
   "execution_count": null,
   "id": "c58bf610-92de-4a5a-a00d-652279ea33dd",
   "metadata": {},
   "outputs": [
    {
     "data": {
      "text/plain": [
       "'Tu letra es una vocal'"
      ]
     },
     "execution_count": 23,
     "metadata": {},
     "output_type": "execute_result"
    }
   ],
   "source": [
    "#funcion con if vocales, sino consonantes\n",
    "letra_seleccioanda= input(\"Escribe tu letra\")\n",
    "def consonante_o_vocal ():\n",
    "    if letra_seleccioanda.lower() in [\"a\", \"e\", \"i\", \"o\", \"u\"]: #Ojo con el parentesis de despues de lower, porque si  no lo pongo la O me sale consonante\n",
    "        return(\"Tu letra es una vocal\")\n",
    "    else:\n",
    "        return(\"Tu letra es una consonante\")\n",
    "\n",
    "consonante_o_vocal()\n"
   ]
  },
  {
   "cell_type": "markdown",
   "id": "52065a6c-3d4c-44c0-a10b-958506c481b3",
   "metadata": {},
   "source": [
    "#### Ejercicio 3. \n",
    "\n",
    "Escribe un programa que calcule la edad humana de un perro.\n",
    "Tienes que pedirle al usuario la edad del perro en años.\n",
    "Si el usuario introduce un número negativo, imprime que la cifra facilitada no tiene sentido. Si el perro tiene un año, son 14 años humanos. Si tiene 2 años, son 22 años humanos.\n",
    "A partir de los 2 años, el cálculo es el siguiente: a la edad del perro se le restan 2 años, el resultado se multiplica por 5 y, finalmente, se le suma 22.\n",
    "Usa una función sin argumentos de entrada ni de salida (muestra toda la información con print())"
   ]
  },
  {
   "cell_type": "code",
   "execution_count": 28,
   "id": "9c59c801-1fe1-4a6d-a000-f85ca738ed00",
   "metadata": {},
   "outputs": [
    {
     "name": "stdout",
     "output_type": "stream",
     "text": [
      "Su perro tiene 62 años humanos\n"
     ]
    }
   ],
   "source": [
    "#pedir edad del perro en años\n",
    "edad_perro_años = int(input(\"Cuál es la edad en años de tu perro. Por favor introduza un número entero\"))\n",
    "\n",
    "#Definir funcion calcular edad del perro. \n",
    "def calculadora_edad_perro():\n",
    "    if edad_perro_años == 1:\n",
    "        print(\"Su perro tiene 14 años humanos\")\n",
    "    elif edad_perro_años >1 and edad_perro_años <= 2:\n",
    "        print(\"Su perro tiene 14 años humanos\")\n",
    "    else:\n",
    "        calculo_edad = 5*(edad_perro_años - 2) + 22\n",
    "        print(\"Su perro tiene\", calculo_edad ,\"años humanos\")\n",
    "\n",
    "calculadora_edad_perro()"
   ]
  },
  {
   "cell_type": "markdown",
   "id": "80566bfc-0e7c-4ece-ba93-18696dc8f5d8",
   "metadata": {},
   "source": [
    "#### Ejercicio 4. \n",
    "Escribe un programa que calcule la suma de todos los elementos de cada tupla guardada dentro de una lista de tuplas.\n",
    "\n",
    "Entrada:\n",
    "\n",
    "[(1, 2), (2, 3), (3, 4)]\n",
    "\n",
    "Resultado:\n",
    "\n",
    "[3, 5, 7]\n",
    "\n",
    "Entrada:\n",
    "[(1, 2, 6), (2, 3, -6), (3, 4), (2, 2, 2, 2)]\n",
    "\n",
    "\n",
    "Resultado:\n",
    "[9, -1, 7, 8]"
   ]
  },
  {
   "cell_type": "code",
   "execution_count": null,
   "id": "90b7fc85-d781-46b7-a68e-28d783520daa",
   "metadata": {},
   "outputs": [
    {
     "name": "stdout",
     "output_type": "stream",
     "text": [
      "Entrada:\n",
      "[(1, 2), (2, 3), (3, 4)]\n",
      "\n",
      "Resultado:\n",
      "[3, 5, 7]\n",
      "\n",
      "Entrada:\n",
      "[(1, 2, 6), (2, 3, -6), (3, 4), (2, 2, 2, 2)]\n",
      "\n",
      "Resultado:\n",
      "[9, -1, 7, 8]\n"
     ]
    }
   ],
   "source": [
    "#No hace falta hacerlo, realmente es funcional. "
   ]
  },
  {
   "cell_type": "markdown",
   "id": "2991309f-4208-431a-900c-d9bc734bb936",
   "metadata": {},
   "source": [
    "#### Ejercicio 5. \n",
    "\n",
    "Escribe un programa que te diga si una frase es un pangrama. Un pangrama es una frase que contiene todas las letras del alfabeto.\n",
    "Puedes tener espacios en blanco, pero NO  tendrás signos de puntuación, a excepción de las tildes.\n",
    "\n",
    "Ejemplo de pangrama:\n",
    "\n",
    "Extraño pan de col y kiwi se quemó bajo fugaz vaho "
   ]
  },
  {
   "cell_type": "code",
   "execution_count": null,
   "id": "9a349c1e-15ab-4253-97f8-2a07a263791d",
   "metadata": {},
   "outputs": [],
   "source": [
    "#Pangrama = todas las vocales del abecedario.\n",
    "#Si aparece una o ya vale, aunque no tenga tildes. \n",
    "\n",
    "\n"
   ]
  },
  {
   "cell_type": "markdown",
   "id": "3dbb76e0-79b2-45e8-9034-58ee9cbd82bb",
   "metadata": {},
   "source": [
    "#### Ejercicio 6. \n",
    "\n",
    "Escribe un programa que use diccionarios para traducir palabras entre varios idiomas.\n",
    "Deberás pedirle al usuario una palabra por teclado, ver si está en tu diccionario. En caso de que esté, deberás mostrar la traducción de esa palabra.\n",
    "\n",
    "Ejemplo de diccionario:\n",
    "\n",
    "```python\n",
    "{\"file\": \"Fichier\", \"new\": \"Nouveau\", \"open\": \"Ouvrir\", \"save\": \"Enregistrer\", \"save as\": \"Enregistrer sous\", \"print preview\": \"Apercu avant impressioner\", \"print\": \"Imprimer\", \"close\": \"Fermer\", \"exit\": \"Quitter\"}\n"
   ]
  },
  {
   "cell_type": "code",
   "execution_count": 42,
   "id": "88236123-e8ac-45da-87d0-134a88a690c1",
   "metadata": {},
   "outputs": [
    {
     "name": "stdout",
     "output_type": "stream",
     "text": [
      "La traduccción en francés es:\n",
      "Fichier\n"
     ]
    }
   ],
   "source": [
    "diccionario_ingles_frances = {\"file\": \"Fichier\", \"new\": \"Nouveau\", \"open\": \"Ouvrir\", \"save\": \"Enregistrer\", \"save as\": \"Enregistrer sous\", \"print preview\": \"Apercu avant impressioner\", \"print\": \"Imprimer\", \"close\": \"Fermer\", \"exit\": \"Quitter\"}\n",
    "\n",
    "palabra_a_traducir = str(input(\"¿Que palabra deseas traducir?\")).lower()\n",
    "\n",
    "def traducir():\n",
    "    if palabra_a_traducir in diccionario_ingles_frances:\n",
    "        print(\"La traduccción en francés es:\")\n",
    "        print(diccionario_ingles_frances.get(palabra_a_traducir))\n",
    "    else:\n",
    "        print(\"palabra introducida no encontrada en el diccionario\")\n",
    "\n",
    "traducir()\n",
    "        \n",
    "   "
   ]
  },
  {
   "cell_type": "markdown",
   "id": "61967ca4-7e06-44b3-ad7b-adbc0e71671a",
   "metadata": {},
   "source": [
    "#### Ejercicio 7.\n",
    "\n",
    "Usando objetos modela un theremin (es un instrumento musical que se toca modificando el campo electromagnético, por si tenías curiosidad).\n",
    "Tendrá de atributos la marca, el modelo, el peso, la potencia y la batería.\n",
    "\n",
    "Todos los instrumentos se crean con un peso predeterminado de 500, una potencia de 50 y una batería de 200.\n",
    "\n",
    "Cuando se recarga la batería vale 200.\n",
    "\n",
    "Cuando se toca, se muestra por pantalla que está sonando y la batería disminuye 10 (no siendo nunca negativo).\n",
    "Si no hay batería, no puede sonar. Crea un instrumento, tócalo mientras quede batería, cárgalo y no lo vuelvas a tocar.\n"
   ]
  },
  {
   "cell_type": "code",
   "execution_count": 3,
   "id": "8082c8cd-03a9-478e-aa72-4ec1306e1bb2",
   "metadata": {},
   "outputs": [],
   "source": [
    "\n",
    "#theremin es un instrumento"
   ]
  },
  {
   "cell_type": "markdown",
   "id": "30f773b5-a6da-4446-b36b-722b2ee57730",
   "metadata": {},
   "source": [
    "#### Ejercicio 8\n",
    "Una empresa usa dos listas  para guardar la información de sus empleados. Una lista guarda el nombre del empleado y la otra guarda su salario. Escribe un programa que cree esas dos listas originalmente vacías y que a través de un menú pueda hacer lo siguiente:\n",
    "    \n",
    "Inserta 1 para añadir un nuevo empleado y su salario\n",
    "\n",
    "Inserta 2 para imprimir los nombres y salarios de todos los empleados\n",
    "\n",
    "Inserta 3 para mostrar el número de empleados\n",
    "\n",
    "Inserta 4 para imprimir los nombres de los empleados con sueldos superiores a 400000\n",
    "\n",
    "Inserta 5 para subir un 5% los sueldos por debajo de 10000\n",
    "\n",
    "Inserta 6 para mostrar el total de todos los salarios\n",
    "\n",
    "Inserta 7 para salir del programa"
   ]
  },
  {
   "cell_type": "code",
   "execution_count": null,
   "id": "67858e27-b7f5-4e05-bc50-3fca698ad22a",
   "metadata": {},
   "outputs": [
    {
     "name": "stdout",
     "output_type": "stream",
     "text": [
      "\n",
      "\n",
      "¡Bienvenido!\n",
      "\n",
      "Inserta 1 para añadir un nuevo empleado y su salario\n",
      "Inserta 2 para imprimir los nombres y salarios de todos los empleados\n",
      "Inserta 3 para mostrar el número de empleados\n",
      "Inserta 4 para imprimir los nombres de los empleados con sueldos superiores a 400000\n",
      "Inserta 5 para subir un 5% los sueldos por debajo de 10000\n",
      "Inserta 6 para mostrar el total de todos los salarios\n",
      "Inserta 7 para salir del programa\n",
      "\n",
      "    \n",
      "Inserta option: 1\n",
      "Nombre de empleado: Juan\n",
      "Salario: 9000\n",
      "\n",
      "Inserta opcion: 1\n",
      "Nombre de empleado: Susana\n",
      "Salario: 41000\n",
      "\n",
      "Inserta opcion: 1\n",
      "Nombre de empleado: Carmen\n",
      "Salario: 30000\n",
      "\n",
      "Inserta opcion: 3\n",
      "Cantidad de empleados:  3\n",
      "\n",
      "Inserta opcion: 2\n",
      "Nombre:  Juan Sueldo:  9000\n",
      "Nombre:  Susana Sueldo:  41000\n",
      "Nombre:  Carmen Sueldo:  30000\n",
      "\n"
     ]
    }
   ],
   "source": [
    "#"
   ]
  },
  {
   "cell_type": "markdown",
   "id": "e33a0e21-476e-4103-b889-a6b3e76b99f3",
   "metadata": {},
   "source": [
    "\n",
    "#### (EXTRA) Ejercicio 9.\n",
    "\n",
    "Escribe un programa que __USE RECURSIVIDAD__ para decidir cuál es la película de Pixar favorita de un usuario.\n",
    "El programa preguntará al usuario cuál de 2 películas es su favorita, y con esa favorita se le volverá a preguntar entre esa y otra película cuál es su favorita...y así hasta que el usuario haya decidido de entre todas cuál es su favorita.\n",
    "\n",
    "Pista: si no quieres cambiar una lista, usa copy() y tendrás una copia que es otro objeto\n",
    "\n"
   ]
  },
  {
   "cell_type": "code",
   "execution_count": 9,
   "id": "c9936fd4-6d29-4535-9f34-a6f289d18d8b",
   "metadata": {},
   "outputs": [
    {
     "name": "stdout",
     "output_type": "stream",
     "text": [
      "Si prefieres Toy Story marca 1, si prefieres Soul marca 2: 2\n",
      "Prefieres Soul\n",
      "Si prefieres Soul marca 1, si prefieres Up marca 2: 1\n",
      "Prefieres Soul\n",
      "Si prefieres Soul marca 1, si prefieres Coco marca 2: 1\n",
      "Prefieres Soul\n",
      "Si prefieres Soul marca 1, si prefieres Luca marca 2: 2\n",
      "Prefieres Luca\n",
      "Si prefieres Luca marca 1, si prefieres Monsters marca 2: 1\n",
      "Prefieres Luca\n",
      "Si prefieres Luca marca 1, si prefieres Inside Out marca 2: 1\n",
      "Prefieres Luca\n",
      "Si prefieres Luca marca 1, si prefieres WallE marca 2: 2\n",
      "Prefieres WallE\n",
      "Si prefieres WallE marca 1, si prefieres Buscando a Nemo marca 2: 2\n",
      "Prefieres Buscando a Nemo\n",
      "Si prefieres Buscando a Nemo marca 1, si prefieres Los increíbles marca 2: 1\n",
      "Prefieres Buscando a Nemo\n",
      "\n",
      "Prefieres finalmente Buscando a Nemo\n"
     ]
    }
   ],
   "source": [
    "lista_pelis_original = [\"Toy Story\", \"Soul\", \"Up\", \"Coco\", \"Luca\", \"Monsters\", \"Inside Out\", \"WallE\", \"Buscando a Nemo\", \"Los increíbles\"]          "
   ]
  },
  {
   "cell_type": "code",
   "execution_count": null,
   "id": "e0264a74-638f-4a82-95a0-cddee11253b7",
   "metadata": {},
   "outputs": [],
   "source": []
  }
 ],
 "metadata": {
  "kernelspec": {
   "display_name": "Python 3",
   "language": "python",
   "name": "python3"
  },
  "language_info": {
   "codemirror_mode": {
    "name": "ipython",
    "version": 3
   },
   "file_extension": ".py",
   "mimetype": "text/x-python",
   "name": "python",
   "nbconvert_exporter": "python",
   "pygments_lexer": "ipython3",
   "version": "3.13.3"
  }
 },
 "nbformat": 4,
 "nbformat_minor": 5
}
