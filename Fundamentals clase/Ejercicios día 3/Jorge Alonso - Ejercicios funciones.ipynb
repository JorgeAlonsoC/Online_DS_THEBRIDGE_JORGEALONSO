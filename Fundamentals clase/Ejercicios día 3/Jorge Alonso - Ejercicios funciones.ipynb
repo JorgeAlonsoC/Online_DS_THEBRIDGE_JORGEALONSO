{
 "cells": [
  {
   "cell_type": "markdown",
   "metadata": {},
   "source": [
    "![imagen](./img/ejercicios.png)"
   ]
  },
  {
   "cell_type": "code",
   "execution_count": 14,
   "metadata": {},
   "outputs": [
    {
     "name": "stdout",
     "output_type": "stream",
     "text": [
      "[1, 2, 3]\n",
      "1 2 3\n"
     ]
    }
   ],
   "source": [
    "mi_lista = [1,2,3]\n",
    "\n",
    "print(mi_lista)\n",
    "\n",
    "(print(*mi_lista)) #asterisco seguido de argumentos los que hace es poner (1, 2, 3), imprime 3 objeto y rompe la tupla\n",
    "                 # *args, todo lo que le des se va a una tupla\n",
    "                 # **args, todo va a ser diccionario"
   ]
  },
  {
   "cell_type": "markdown",
   "metadata": {},
   "source": [
    "# Ejercicios funciones\n",
    "## Ejercicio 1\n",
    "Escribe una función que convierta números del 1 al 7 en nombres de los dias de la semana. La función constará de un único argumento numérico y una salida de tipo string"
   ]
  },
  {
   "cell_type": "code",
   "execution_count": 19,
   "metadata": {},
   "outputs": [
    {
     "data": {
      "text/plain": [
       "'No corresponde a ningun día de la semana'"
      ]
     },
     "execution_count": 19,
     "metadata": {},
     "output_type": "execute_result"
    }
   ],
   "source": [
    "\n",
    "def dia_semana (numero_dia_semana):\n",
    "\n",
    "    if numero_dia_semana == 1:\n",
    "        return str(\"lunes\")\n",
    "    elif numero_dia_semana == 2:\n",
    "        return str(\"martes\")\n",
    "    elif numero_dia_semana == 3:\n",
    "        return str(\"miercoles\")\n",
    "    elif numero_dia_semana == 4:\n",
    "        return str(\"jueves\")\n",
    "    elif numero_dia_semana == 5:\n",
    "        return str(\"viernes\")\n",
    "    elif numero_dia_semana == 6:\n",
    "        return str(\"sabado\")\n",
    "    elif numero_dia_semana == 7:\n",
    "        return str(\"domingo\")\n",
    "    else:\n",
    "        return str(\"No corresponde a ningun día de la semana\")\n",
    "\n",
    "dia_semana (10)"
   ]
  },
  {
   "cell_type": "code",
   "execution_count": 103,
   "metadata": {},
   "outputs": [
    {
     "data": {
      "text/plain": [
       "'viernes'"
      ]
     },
     "execution_count": 103,
     "metadata": {},
     "output_type": "execute_result"
    }
   ],
   "source": [
    "def dia_semana (numero_dia_semana):\n",
    "    dic_semana = {1:\"lunes\", 2:\"martes\", 3: \"miercoles\", 4:\"jueves\", 5 :\"viernes\", 6 :\"sabado\", 7: \"domingo\"}\n",
    "    if numero_dia_semana in dic_semana:\n",
    "        return dic_semana[numero_dia_semana]\n",
    "    else:\n",
    "        return \"Numero incorrecto\"\n",
    "    \n",
    "dia_semana(5)\n",
    "\n"
   ]
  },
  {
   "cell_type": "markdown",
   "metadata": {},
   "source": [
    "## Ejercicio 2\n",
    "En el ejercicio 8 de bucles, creábamos una pirámide invertida, cuyo número de pisos venía determinado por un input del usuario. Crear una función que replique el comportamiento de la pirámide, y utiliza un único parámetro de entrada de la función para determinar el número de filas de la pirámide, es decir, elimina la sentencia input."
   ]
  },
  {
   "cell_type": "code",
   "execution_count": 15,
   "metadata": {},
   "outputs": [
    {
     "name": "stdout",
     "output_type": "stream",
     "text": [
      " 1 2 3 4 5\n",
      " 1 2 3 4\n",
      " 1 2 3\n",
      " 1 2\n",
      " 1\n"
     ]
    }
   ],
   "source": [
    "def piramide_invertida (filas):\n",
    "    for num in range(filas):\n",
    "        out= \"\"\n",
    "        for num2 in range(filas-num):\n",
    "            out = out + \" \" + str(num2 + 1)\n",
    "        print(out)\n",
    "\n",
    "piramide_invertida (5)\n"
   ]
  },
  {
   "cell_type": "markdown",
   "metadata": {},
   "source": [
    "## Ejercicio 3\n",
    "Escibe una función que compare dos números. La función tiene dos argumentos y hay tres salidas posibles: que sean iguales, que el primero se  mayor que el segundo, o que el segundo sea mayor que el primero"
   ]
  },
  {
   "cell_type": "code",
   "execution_count": 20,
   "metadata": {},
   "outputs": [
    {
     "data": {
      "text/plain": [
       "'Tanto el primer como el segundo número son iguales'"
      ]
     },
     "execution_count": 20,
     "metadata": {},
     "output_type": "execute_result"
    }
   ],
   "source": [
    "\n",
    "def commparacion_numeros (numero1, numero2):\n",
    "    if numero1 > numero2:\n",
    "        return str(\"El primer número es mayor que el segundo\")\n",
    "    elif numero1 == numero2:\n",
    "        return str(\"Tanto el primer como el segundo número son iguales\")\n",
    "    elif numero1 < numero2:\n",
    "        return str(\"El primer número es menor que el segundo\")\n",
    "    \n",
    "commparacion_numeros(6,6)\n"
   ]
  },
  {
   "cell_type": "markdown",
   "metadata": {},
   "source": [
    "## Ejercicio 4\n",
    "Escribe una función que sea un contador de letras. En el primer argumento tienes que introducir un texto, y el segundo que sea la letra a contar. La función tiene que devolver un entero con el número de veces que aparece esa letra, tanto mayuscula, como minúscula"
   ]
  },
  {
   "cell_type": "code",
   "execution_count": 29,
   "metadata": {},
   "outputs": [
    {
     "data": {
      "text/plain": [
       "2"
      ]
     },
     "execution_count": 29,
     "metadata": {},
     "output_type": "execute_result"
    }
   ],
   "source": [
    "def contador_letras (texto, letra_contar):\n",
    "    texto_minusculas = str(texto.lower())\n",
    "    letra_contar_minus = str(letra_contar.lower())     #Otra forma total = texto_minusculas.count(letra_contar_minus)\n",
    "    cuenta = texto_minusculas.count(letra_contar_minus)\n",
    "    return (cuenta)\n",
    "    \n",
    "contador_letras(\"hola buenos días\", \"o\")\n"
   ]
  },
  {
   "cell_type": "markdown",
   "metadata": {},
   "source": [
    "## Ejercicio 5\n",
    "Escribe una función que tenga un único argumento, un string. La salida de la función tiene que ser un diccionario con el conteo de todas las letras de ese string."
   ]
  },
  {
   "cell_type": "code",
   "execution_count": 91,
   "metadata": {},
   "outputs": [],
   "source": [
    "def conteo_letras (argumento_str):\n",
    "    diccionario_letras= {}\n",
    "    for letra in argumento_str:\n",
    "        letra = letra.lower()\n",
    "\n",
    "#repasar en clase y ver cómo se hace\n"
   ]
  },
  {
   "cell_type": "code",
   "execution_count": 32,
   "metadata": {},
   "outputs": [
    {
     "data": {
      "text/plain": [
       "{'e': 5,\n",
       " 'n': 3,\n",
       " ' ': 5,\n",
       " 's': 3,\n",
       " 't': 2,\n",
       " 'a': 3,\n",
       " 'c': 2,\n",
       " 'l': 1,\n",
       " 'p': 2,\n",
       " 'r': 1,\n",
       " 'd': 1,\n",
       " 'm': 2,\n",
       " 'o': 3,\n",
       " 'u': 1,\n",
       " 'h': 2,\n",
       " 'y': 1}"
      ]
     },
     "execution_count": 32,
     "metadata": {},
     "output_type": "execute_result"
    }
   ],
   "source": [
    "def letter_count_dic(texto):\n",
    "\n",
    "    all_letters = {} #clave del diccionario es cada letra y el valor es el numero de veces que aparece esa letra\n",
    "\n",
    "    for i in texto.lower():  # la primera i es h (es decir, cada una de las letras)\n",
    "        if i in all_letters: #comprueba si la h es una clave en el diccionario vacío\n",
    "            all_letters[i] = all_letters [i] + 1 #En caso de que SÍ existiera clave h, se sumaria un 1 al valor en el diccionario\n",
    "        \n",
    "        else:\n",
    "            all_letters [i] = 1 #si el if no se cumple la h se añade como clave y el valor se le pone 1 del diccionario\n",
    "        \n",
    "    return all_letters\n",
    "\n",
    "letter_count_dic(\"En esta clase aprendemos mucho python\")"
   ]
  },
  {
   "cell_type": "markdown",
   "metadata": {},
   "source": [
    "## Ejercicio 6\n",
    "Escribir una función que añada o elimine elementos en una lista. La función necesita los siguientes argumentos:\n",
    "* lista: la lista donde se añadirán o eliminarán los elementos\n",
    "* comando: \"add\" o \"remove\"\n",
    "* elemento: Por defecto es None."
   ]
  },
  {
   "cell_type": "code",
   "execution_count": 44,
   "metadata": {},
   "outputs": [
    {
     "name": "stdout",
     "output_type": "stream",
     "text": [
      "[2, 5, 2, 9]\n"
     ]
    }
   ],
   "source": [
    "lista1 = [2,5,4,2,9]\n",
    "\n",
    "def añadir (lista1, comando, valor = None):\n",
    "    if comando == \"add\":\n",
    "        return lista1.append(valor)\n",
    "    elif comando == \"remove\":\n",
    "        return lista1.remove(valor)\n",
    "\n",
    "añadir (lista1,\"remove\", 4)\n",
    "\n",
    "print(lista1)"
   ]
  },
  {
   "cell_type": "markdown",
   "metadata": {},
   "source": [
    "## Ejercicio 7\n",
    "Crea una función que reciba un número arbitrario de palabras, y devuelva una frase completa, separando las palabras con espacios."
   ]
  },
  {
   "cell_type": "code",
   "execution_count": 86,
   "metadata": {},
   "outputs": [
    {
     "data": {
      "text/plain": [
       "' hola que hola pasando jugar'"
      ]
     },
     "execution_count": 86,
     "metadata": {},
     "output_type": "execute_result"
    }
   ],
   "source": [
    "def nexo_palabras (*args):\n",
    "    a = \"\"\n",
    "    for palabra in args: #join para unir str\n",
    "        a = a +\" \" + palabra\n",
    "    return a\n",
    "\n",
    "nexo_palabras (\"hola\", \"que\", \"hola\", \"pasando\", \"jugar\")\n"
   ]
  },
  {
   "cell_type": "code",
   "execution_count": null,
   "metadata": {},
   "outputs": [
    {
     "data": {
      "text/plain": [
       "'hola que hola pasando jugar'"
      ]
     },
     "execution_count": 89,
     "metadata": {},
     "output_type": "execute_result"
    }
   ],
   "source": [
    "def nexo_palabras (*args): #arg va a ser como una tupla con todas las palabras que has introducido\n",
    "    \n",
    "    return \" \".join(args)\n",
    "\n",
    "nexo_palabras (\"hola\", \"que\", \"hola\", \"pasando\", \"jugar\")\n"
   ]
  },
  {
   "cell_type": "markdown",
   "metadata": {},
   "source": [
    "## Ejercicio 8\n",
    "Escribe un programa que obtenga el enésimo número de la [serie de Fibonacci](https://es.wikipedia.org/wiki/Sucesi%C3%B3n_de_Fibonacci). Tienes que crear una función recursiva con un único argumento.\n",
    "\n",
    "```Python\n",
    "fibonacci(2) = 1\n",
    "fibonacci(4) = 3\n",
    "fibonacci(5) = 5\n",
    "fibonacci(8) = 21\n",
    "```"
   ]
  },
  {
   "cell_type": "code",
   "execution_count": 42,
   "metadata": {},
   "outputs": [
    {
     "name": "stdout",
     "output_type": "stream",
     "text": [
      "5\n",
      "1\n",
      "55\n"
     ]
    }
   ],
   "source": [
    "#Ejemplo de ejercicio recursivo\n",
    "\n",
    "def fibonacci (n):\n",
    "  if n == 1 or n == 2: #se puede quitar el or n == 2\n",
    "    return 1\n",
    "  elif n == 0:\n",
    "    return 0\n",
    "  else:\n",
    "    return (fibonacci(n-1) + (fibonacci(n-2))) #Con esto lo que se hace es sumar los dos numeros anteriores al número introducido.\n",
    "                                               # Esto es recursivo porque se usa la misma finción dentro de la función\n",
    "print(fibonacci(5))\n",
    "print(fibonacci(2))\n",
    "print(fibonacci(10))"
   ]
  },
  {
   "cell_type": "markdown",
   "metadata": {},
   "source": [
    "## Ejercicio 9\n",
    "Define en una única celda las siguientes funciones:\n",
    "* Función que calcule el área de un cuadrado\n",
    "* Función que calcule el area de un triángulo\n",
    "* Función que calcule el área de un círculo\n",
    "\n",
    "En otra celda, calcular el area de:\n",
    "* Dos círculos de radio 10 + un triángulo de base 3 y altura 7\n",
    "* Un cuadrado de lado = 10 + 3 círculos (uno de radio = 4 y los otros dos de radio = 6) + 5 triángulos de base = 2 + altura = 4"
   ]
  },
  {
   "cell_type": "code",
   "execution_count": 63,
   "metadata": {},
   "outputs": [],
   "source": [
    "import math\n",
    "def area_cuadrado (lado):\n",
    "    cuadrado = lado*lado\n",
    "    return cuadrado\n",
    "\n",
    "def area_triangulo (base, altura): #(base*altura)/2\n",
    "    triangulo = (base * altura)/2\n",
    "    return triangulo\n",
    "\n",
    "def area_circulo (radio): #2*pi*radio al cuadrado\n",
    "    circulo = math.pi * radio**2\n",
    "    return circulo"
   ]
  },
  {
   "cell_type": "code",
   "execution_count": 67,
   "metadata": {},
   "outputs": [
    {
     "name": "stdout",
     "output_type": "stream",
     "text": [
      "638.8185307179587\n",
      "396.4601535159018\n"
     ]
    }
   ],
   "source": [
    "area_formas1 = 2 * area_circulo(10) + area_triangulo (3,7)\n",
    "print(area_formas1)\n",
    "area_formas2 = area_cuadrado (10) + 2 * (area_circulo (6)) + area_circulo(4) + 5 * area_triangulo (2,4)\n",
    "print(area_formas2)"
   ]
  },
  {
   "cell_type": "code",
   "execution_count": null,
   "metadata": {},
   "outputs": [],
   "source": []
  }
 ],
 "metadata": {
  "kernelspec": {
   "display_name": "Python 3",
   "language": "python",
   "name": "python3"
  },
  "language_info": {
   "codemirror_mode": {
    "name": "ipython",
    "version": 3
   },
   "file_extension": ".py",
   "mimetype": "text/x-python",
   "name": "python",
   "nbconvert_exporter": "python",
   "pygments_lexer": "ipython3",
   "version": "3.13.3"
  }
 },
 "nbformat": 4,
 "nbformat_minor": 4
}
