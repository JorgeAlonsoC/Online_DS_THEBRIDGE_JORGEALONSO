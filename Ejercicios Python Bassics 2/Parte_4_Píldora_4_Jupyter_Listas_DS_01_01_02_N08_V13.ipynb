{
 "cells": [
  {
   "cell_type": "markdown",
   "metadata": {
    "id": "xQGKLnW38OpJ"
   },
   "source": [
    "<img src = \"./img/TheBridge_logo_RGB_color.jpg\" width = 500><img src = \"./img/python.jpg\" width = 500>"
   ]
  },
  {
   "cell_type": "markdown",
   "metadata": {
    "id": "_pFh-Tjn8OpM"
   },
   "source": [
    "# Python Basics I"
   ]
  },
  {
   "cell_type": "markdown",
   "metadata": {
    "id": "FhuFROa28OpN"
   },
   "source": [
    "## Contenidos"
   ]
  },
  {
   "cell_type": "markdown",
   "metadata": {
    "id": "q7A2hnw18OpO"
   },
   "source": [
    "* [Listas\n",
    "](#Listas\n",
    ")\n"
   ]
  },
  {
   "cell_type": "markdown",
   "metadata": {
    "id": "1Ymnfcbq8OpP"
   },
   "source": [
    "## Listas\n",
    "[al indice](#Contenidos)  \n",
    "Se trata de otro de los tipos de datos de Python más usados. Dentro de las colecciones, que veremos más adelante, la lista es la colección que normalmente se le da más uso. **Nos permiten almacenar conjuntos de variables u objetos**, y son elementos de lo más versátiles puesto que podemos almacenar objetos de distintos tipos, modificarlos, eliminarlos, meter listas dentro de listas... Sus dos caractrísticas principales son:\n",
    "* **Mutables**: una vez se ha creado la lista, se puede modificar\n",
    "* **Ordenada**: Los elementos tienen un cierto orden, lo que nos permite acceder al elemento que queramos teniendo en cuenta tal orden\n",
    "\n",
    "En cuanto a su sintaxis, cuando declaremos la lista simplemente hay que separar cada elemento con comas, y rodearlo todo con corchetes."
   ]
  },
  {
   "cell_type": "code",
   "execution_count": 1,
   "metadata": {
    "id": "3uA_kTJJ8OpQ"
   },
   "outputs": [
    {
     "name": "stdout",
     "output_type": "stream",
     "text": [
      "[1, 2, 3, 4, 5, 6] <class 'list'>\n"
     ]
    }
   ],
   "source": [
    "#Lista de numeros\n",
    "numeros = [1,2,3,4,5,6]\n",
    "print(numeros, type(numeros))"
   ]
  },
  {
   "cell_type": "code",
   "execution_count": 5,
   "metadata": {
    "id": "fAVBoi_x8OpR",
    "scrolled": true
   },
   "outputs": [
    {
     "name": "stdout",
     "output_type": "stream",
     "text": [
      "['esto', 'es', 'una', 'lista', 'de', 'strings'] <class 'list'>\n",
      "[True, False, True, True, False]\n"
     ]
    }
   ],
   "source": [
    "#lista de strings\n",
    "strings = [\"esto\",\"es\",\"una\",\"lista\",\"de\",\"strings\"]\n",
    "print(strings, type(strings))\n",
    "\n",
    "#Lista de booleanos\n",
    "booleanos = [True, False, not False, True or False, False and False]\n",
    "print(booleanos)"
   ]
  },
  {
   "cell_type": "code",
   "execution_count": 12,
   "metadata": {},
   "outputs": [
    {
     "name": "stdout",
     "output_type": "stream",
     "text": [
      "['Esto es', 12, -3.5, True, 'lista'] <class 'list'>\n",
      "['Hola', 12, 23, [23, True, False]]\n"
     ]
    },
    {
     "data": {
      "text/plain": [
       "5"
      ]
     },
     "execution_count": 12,
     "metadata": {},
     "output_type": "execute_result"
    }
   ],
   "source": [
    "#lista de tipos mezclados\n",
    "mix= [\"Esto es\",12,-3.5, True, \"lista\"]\n",
    "print(mix,type(mix))\n",
    "\n",
    "listas = [\"Hola\",12,23,[23,True,False]]\n",
    "print(listas)\n",
    "len(listas)\n",
    "len(mix)"
   ]
  },
  {
   "cell_type": "code",
   "execution_count": 15,
   "metadata": {},
   "outputs": [
    {
     "name": "stdout",
     "output_type": "stream",
     "text": [
      "['Esto es', 12, -3.5, True, 'lista', 'Hola', 12, 23, [23, True, False]] <class 'list'>\n"
     ]
    }
   ],
   "source": [
    "concatenacion = mix + listas\n",
    "print(concatenacion, type(concatenacion))"
   ]
  },
  {
   "cell_type": "markdown",
   "metadata": {
    "id": "sxIPcUIj8OpR"
   },
   "source": [
    "**NOTA**: ¿Ves por qué los decimales en Python siempre van con puntos y no con comas? Con las colecciones el intérprete de Python se volvería loco.\n",
    "\n",
    "Podemos ver tambien el tipo de la lista"
   ]
  },
  {
   "cell_type": "code",
   "execution_count": 16,
   "metadata": {
    "id": "Jj4nqi_28OpS"
   },
   "outputs": [
    {
     "data": {
      "text/plain": [
       "list"
      ]
     },
     "execution_count": 16,
     "metadata": {},
     "output_type": "execute_result"
    }
   ],
   "source": [
    "type(mix)"
   ]
  },
  {
   "cell_type": "markdown",
   "metadata": {
    "id": "QZcGObzx8OpT"
   },
   "source": [
    "Calcular la longitud de la misma mediante el método *built-in* ya visto: `len()`"
   ]
  },
  {
   "cell_type": "code",
   "execution_count": 17,
   "metadata": {
    "id": "f_X4EowS8OpU"
   },
   "outputs": [
    {
     "data": {
      "text/plain": [
       "5"
      ]
     },
     "execution_count": 17,
     "metadata": {},
     "output_type": "execute_result"
    }
   ],
   "source": [
    "len(mix)"
   ]
  },
  {
   "cell_type": "markdown",
   "metadata": {
    "id": "RZz-W_C48OpU"
   },
   "source": [
    "Accedemos a los elemenos de la lista mediante corchetes `[]`\n",
    "\n",
    "**Importante**. El primer elemento es el 0"
   ]
  },
  {
   "cell_type": "code",
   "execution_count": 24,
   "metadata": {
    "id": "5ES0KDd98OpU"
   },
   "outputs": [
    {
     "name": "stdout",
     "output_type": "stream",
     "text": [
      "4.95\n",
      "sí\n"
     ]
    },
    {
     "ename": "IndexError",
     "evalue": "list index out of range",
     "output_type": "error",
     "traceback": [
      "\u001b[31m---------------------------------------------------------------------------\u001b[39m",
      "\u001b[31mIndexError\u001b[39m                                Traceback (most recent call last)",
      "\u001b[36mCell\u001b[39m\u001b[36m \u001b[39m\u001b[32mIn[24]\u001b[39m\u001b[32m, line 4\u001b[39m\n\u001b[32m      2\u001b[39m \u001b[38;5;28mprint\u001b[39m(lista_ejemplo[-\u001b[32m2\u001b[39m])\n\u001b[32m      3\u001b[39m \u001b[38;5;28mprint\u001b[39m(lista_ejemplo[\u001b[32m2\u001b[39m])\n\u001b[32m----> \u001b[39m\u001b[32m4\u001b[39m \u001b[38;5;28mprint\u001b[39m(\u001b[43mlista_ejemplo\u001b[49m\u001b[43m[\u001b[49m\u001b[32;43m6\u001b[39;49m\u001b[43m]\u001b[49m)\n",
      "\u001b[31mIndexError\u001b[39m: list index out of range"
     ]
    }
   ],
   "source": [
    "lista_ejemplo = [\"aqui\",4.95,\"sí\"]\n",
    "print(lista_ejemplo[-2])\n",
    "print(lista_ejemplo[2])\n",
    "print(lista_ejemplo[6])"
   ]
  },
  {
   "cell_type": "markdown",
   "metadata": {
    "id": "7hzVGMmU8OpV"
   },
   "source": [
    "### Metodos en Listas\n",
    "Para el tipo de objeto lista, también hay una serie de métodos catacterísticos que nos permiten operar con ellas: añadir valores, quitarlos, indexado, filtrado, etc... En [este enlace](https://www.w3schools.com/python/python_ref_list.asp) puedes encontrar todos los métodos que podrás usar con listas."
   ]
  },
  {
   "cell_type": "code",
   "execution_count": 39,
   "metadata": {
    "id": "UVZc_SRb8OpV"
   },
   "outputs": [
    {
     "name": "stdout",
     "output_type": "stream",
     "text": [
      "['fisica', 'mates', 'biologia', 'musica', 'filosofia']\n",
      "['fisica', 'legua', 'mates', 'biologia', 'musica', 'filosofia']\n",
      "['fisica', 'legua', 'biologia', 'musica', 'filosofia']\n",
      "['fisica', 'legua', 'biologia', 'musica']\n",
      "['biologia', 'fisica', 'legua', 'musica']\n",
      "[]\n"
     ]
    }
   ],
   "source": [
    "asignaturas = [\"fisica\",\"mates\",\"biologia\", \"musica\"]\n",
    "\n",
    "#Añadir elementos a una lista (.append lo añade al final de la lista)\n",
    "asignaturas.append(\"filosofia\")\n",
    "print(asignaturas)\n",
    "\n",
    "#añadir elemento en posicion determinada .inser\n",
    "asignaturas.insert(1,\"legua\")\n",
    "print(asignaturas)\n",
    "\n",
    "#Quitar un elemento con el indice o posición .pop y el numero indice que queremos quitar\n",
    "asignaturas.pop(2)\n",
    "print(asignaturas)\n",
    "\n",
    "#Quitar un elemento por su valor .remove\n",
    "asignaturas.remove(\"filosofia\")\n",
    "print(asignaturas)\n",
    "\n",
    "#ordenar la lista .sort si no pones nada ordena alfabeticamente\n",
    "asignaturas.sort()\n",
    "print(asignaturas)\n",
    "\n",
    "\n",
    "#Quitar elementos .clear limpia la lista\n",
    "asignaturas.clear()\n",
    "print(asignaturas)"
   ]
  },
  {
   "cell_type": "code",
   "execution_count": null,
   "metadata": {
    "id": "Ph1xNUpj8OpW"
   },
   "outputs": [],
   "source": []
  },
  {
   "cell_type": "code",
   "execution_count": null,
   "metadata": {
    "id": "BTvXjNXe8OpW"
   },
   "outputs": [],
   "source": []
  }
 ],
 "metadata": {
  "colab": {
   "provenance": []
  },
  "kernelspec": {
   "display_name": "Python 3 (ipykernel)",
   "language": "python",
   "name": "python3"
  },
  "language_info": {
   "codemirror_mode": {
    "name": "ipython",
    "version": 3
   },
   "file_extension": ".py",
   "mimetype": "text/x-python",
   "name": "python",
   "nbconvert_exporter": "python",
   "pygments_lexer": "ipython3",
   "version": "3.13.3"
  }
 },
 "nbformat": 4,
 "nbformat_minor": 4
}
