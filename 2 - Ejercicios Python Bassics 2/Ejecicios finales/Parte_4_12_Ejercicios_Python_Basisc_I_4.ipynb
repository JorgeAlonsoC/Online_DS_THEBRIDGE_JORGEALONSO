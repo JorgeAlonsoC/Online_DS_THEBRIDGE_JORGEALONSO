{
 "cells": [
  {
   "cell_type": "markdown",
   "metadata": {
    "id": "trlzAvS9kLR1"
   },
   "source": [
    "![TheBridge_logo_RGB_color.jpg](attachment:TheBridge_logo_RGB_color.jpg)"
   ]
  },
  {
   "cell_type": "markdown",
   "metadata": {
    "id": "JfHeT0c0kLR6"
   },
   "source": [
    "![imagen](./img/ejercicios.png)"
   ]
  },
  {
   "cell_type": "markdown",
   "metadata": {
    "id": "YYTqmL6SkLR8"
   },
   "source": [
    "## EJERCICIOS PYTHON BASICO 4:\n",
    "## Funciones, métodos, listas"
   ]
  },
  {
   "cell_type": "markdown",
   "metadata": {
    "id": "mWZbByWrkLR9"
   },
   "source": [
    "Completa los siguiente ejercicios, la solución completa a los mismos se publicarán en el repo del curso a lo largo del sprint. En algunos ejercicios se muestra la solución final, para que puedas comprobar que lo has hecho bien, pero lo importante es el código que generes. ¡Vaaamos, a ello...!"
   ]
  },
  {
   "cell_type": "markdown",
   "metadata": {
    "id": "0wcgA4ofkLR_"
   },
   "source": [
    "![ejercicio.png](./img/ejercicio.png)\n",
    "\n",
    "## Ejercicio 1\n",
    "Para este ejercicio vamos a poner en práctica [las funciones built in](https://docs.python.org/3/library/functions.html).\n",
    "\n",
    "1. Calcula el máximo de la lista: [4, 6, 8, -1]\n",
    "2. Suma todos los elementos de la lista anterior\n",
    "3. Redondea este float a 3 dígitos decimales: 63.451256965\n",
    "4. Valor absoluto de: -74"
   ]
  },
  {
   "cell_type": "code",
   "execution_count": 9,
   "metadata": {
    "id": "KGHF1WAEkLSA"
   },
   "outputs": [
    {
     "name": "stdout",
     "output_type": "stream",
     "text": [
      "8\n",
      "17\n",
      "63.451\n",
      "74\n"
     ]
    }
   ],
   "source": [
    "lista = [4, 6, 8, -1]\n",
    "print(max(lista))\n",
    "suma_lista = sum(lista)\n",
    "print(suma_lista)\n",
    "numero = 63.451256965\n",
    "numero_redo = round(numero, 3)\n",
    "print(numero_redo)\n",
    "valor = -74\n",
    "print(abs(valor))"
   ]
  },
  {
   "cell_type": "markdown",
   "metadata": {
    "id": "e3vThPFjkLSB"
   },
   "source": [
    "![ejercicio.png](./img/ejercicio.png)\n",
    "\n",
    "## Ejercicio 2\n",
    "Para el siguiente string se pide imprimir por pantalla los siguientes casos\n",
    "\n",
    "    \"En un lugar de la Mancha, de cuyo nombre no quiero acordarme.\"\n",
    "\n",
    "1. Pásalo todo a mayúsculas\n",
    "2. Pásalo todo a minúsculas\n",
    "3. Solo la primera letra de cada palabra en mayúscula, el resto en minúscula\n",
    "4. Crea una lista dividiéndolo por sus espacios\n",
    "5. Sustituye las comas `,` por puntos y comas `;`\n",
    "6. Elimina las `a` minúsculas"
   ]
  },
  {
   "cell_type": "code",
   "execution_count": 51,
   "metadata": {
    "id": "p2u2rx1fkLSC",
    "outputId": "c082cecb-7e96-4165-e6b9-c3baa27e6f75"
   },
   "outputs": [
    {
     "name": "stdout",
     "output_type": "stream",
     "text": [
      "EN UN LUGAR DE LA MANCHA, DE CUYO NOMBRE NO QUIERO ACORDARME.\n",
      "en un lugar de la mancha, de cuyo nombre no quiero acordarme.\n",
      "En Un Lugar De La Mancha, De Cuyo Nombre No Quiero Acordarme.\n",
      "['En', 'un', 'lugar', 'de', 'la', 'Mancha,', 'de', 'cuyo', 'nombre', 'no', 'quiero', 'acordarme.']\n",
      "En un lugar de la Mancha; de cuyo nombre no quiero acordarme.\n",
      "En un lugr de l Mnch, de cuyo nombre no quiero cordrme.\n"
     ]
    }
   ],
   "source": [
    "quijote = \"En un lugar de la Mancha, de cuyo nombre no quiero acordarme.\"\n",
    "print(quijote.upper())\n",
    "\n",
    "print(quijote.lower())\n",
    "\n",
    "print(quijote.title())\n",
    "\n",
    "print(quijote.split( ))\n",
    "\n",
    "print(quijote.replace(\",\",\";\"))\n",
    "\n",
    "print(quijote.replace(\"a\", \"\"))"
   ]
  },
  {
   "cell_type": "markdown",
   "metadata": {
    "id": "vZan9A2fkLSD"
   },
   "source": [
    "![ejercicio.png](./img/ejercicio.png)\n",
    "\n",
    "## Ejercicio 3\n",
    "1. Crea una lista con 3 elementos numéricos\n",
    "2. Añade un cuarto elemento\n",
    "3. Calcula la suma de todos\n",
    "4. Elimina el segundo elemento de la lista\n",
    "5. Añade otro elemento en la posicion 3 de la lista\n",
    "6. Crea otra lista con 4 elementos y concaténala a la que ya tenías.\n",
    "7. Ordena la lista de menor a mayor.\n",
    "8. BONUS: Ordena la lista de mayor a menor.  \n",
    "(*PISTA: Para hacer 8, tendrás que buscar en la información del método...*)  \n",
    "  \n",
    "  \n",
    "NOTA: Pinta por pantalla el resultado de cada paso."
   ]
  },
  {
   "cell_type": "code",
   "execution_count": 49,
   "metadata": {
    "id": "InZBai0zkLSF",
    "outputId": "ae3d13a2-c734-482f-a261-efdc08d9ce8f"
   },
   "outputs": [
    {
     "name": "stdout",
     "output_type": "stream",
     "text": [
      "[5, 91.279, 4, 7.981]\n",
      "108.25999999999999\n",
      "[5, 4, 7.981]\n",
      "[5, 4, 50, 7.981]\n",
      "[5, 4, 50, 7.981, 3, 70, 15, 9.67]\n",
      "[3, 4, 5, 7.981, 9.67, 15, 50, 70]\n",
      "[70, 50, 15, 9.67, 7.981, 5, 4, 3]\n"
     ]
    }
   ],
   "source": [
    "lista1 = [5, 4, 7.981]\n",
    "lista1.insert(1,91.279)\n",
    "print (lista1)\n",
    "\n",
    "print(sum(lista1))\n",
    "\n",
    "del lista1[1]\n",
    "print(lista1)\n",
    "\n",
    "lista1.insert(2,50)\n",
    "print(lista1)\n",
    "\n",
    "lista2 = [3, 70, 15, 9.67]\n",
    "lista_total = lista1 + lista2\n",
    "print(lista_total)\n",
    "\n",
    "lista_total.sort()\n",
    "print(lista_total)\n",
    "\n",
    "lista_total.sort(reverse=True)\n",
    "print(lista_total)"
   ]
  },
  {
   "cell_type": "code",
   "execution_count": null,
   "metadata": {},
   "outputs": [],
   "source": []
  }
 ],
 "metadata": {
  "colab": {
   "provenance": []
  },
  "kernelspec": {
   "display_name": "Python 3 (ipykernel)",
   "language": "python",
   "name": "python3"
  },
  "language_info": {
   "codemirror_mode": {
    "name": "ipython",
    "version": 3
   },
   "file_extension": ".py",
   "mimetype": "text/x-python",
   "name": "python",
   "nbconvert_exporter": "python",
   "pygments_lexer": "ipython3",
   "version": "3.13.3"
  }
 },
 "nbformat": 4,
 "nbformat_minor": 4
}
