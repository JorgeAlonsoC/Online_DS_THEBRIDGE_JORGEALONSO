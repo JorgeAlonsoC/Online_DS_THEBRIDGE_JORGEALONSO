{
 "cells": [
  {
   "cell_type": "markdown",
   "metadata": {},
   "source": [
    "![imagen](./img/ejercicios.png)\n",
    "\n",
    "# Ejercicios Clases y Objetos"
   ]
  },
  {
   "cell_type": "markdown",
   "metadata": {},
   "source": [
    "## Ejercicio 1\n",
    "Somos una empresa que tiene varias tiendas de electrodomesticos. Necesitamos un programa para manejar las tiendas, ver las ventas que han tenido, cuántos empleados hay, etc... Para ello vamos a modelizar la tienda en una clase, que tendrá las siguientes características:\n",
    "* Nombre clase: \"Tienda\"\n",
    "* Atributos comunes:\n",
    "    * Tipo: \"Electrodomésticos\"\n",
    "    * Abierta: True\n",
    "* Atributos propios de cada tienda:\n",
    "    * Nombre - String\n",
    "    * Dirección - String\n",
    "    * Número de empleados - int\n",
    "    * Ventas ultimos 3 meses - Lista de 3 numeros\n",
    "* Método para calcular las ventas de todos los meses, que devuelva un numero con todas las ventas.\n",
    "* Método que calcula la media de ventas de los ultimos meses, por empleado\n",
    "* Método que devuelve en un string el nombre de la tienda, junto con su dirección.\n",
    "* Método que obtiene las ventas del último mes.\n",
    "* Método para dar una proyección de las ventas en caso de haber invertido X dinero en marketing en esa tienda. Siendo X el parámetro de entrada. Si X es menor de 1000, las ventas de los ultimos 3 meses hubiesen sido de (1.2 x ventas), si es mayor o igual de 1000, las ventas hubiesen sido de (1.5 x venta). El método reescribe el atributo de ventas en los últimos 3 meses, y además devuelve las ventas con el aumento.\n",
    "\n",
    "Se pide:\n",
    "1. Implementar la clase \"Tienda\"\n",
    "2. Crear tres tiendas con datos inventados\n",
    "3. Comprueba en al menos una de ellas, todo lo implementado en la clase tienda (sus atributos, media de ventas, ventas/empleado...)\n",
    "3. Calcular las ventas del último mes de todas las tiendas. Para ello usa el bucle `for`\n",
    "4. Imprime por pantalla los nombres de las tiendas cuya dirección lleve el string \"Avenida\"\n",
    "5. Seguro que ya has hecho este apartado... Documenta la clase :)"
   ]
  },
  {
   "cell_type": "code",
   "execution_count": null,
   "metadata": {},
   "outputs": [
    {
     "name": "stdout",
     "output_type": "stream",
     "text": [
      "{'direccion': 'Calle Alcalá', 'nombre': 'tienda_grande', 'numero_empleados': 10, 'ventas_3_meses': [15, 90, 50]}\n",
      "Suma de ventas 155\n",
      "Media de ventar por empleado 15.5\n",
      "información de la tienda: tienda_grande, Calle Alcalá\n",
      "Ventas del último mes: 50\n",
      "Aumento de las ventas en función al marketing 232.5\n"
     ]
    }
   ],
   "source": [
    "class Tienda:\n",
    "    '''\n",
    "    Esto es un doc stream\n",
    "    de la clase tienda.\n",
    "    que sirve para documentar todo y si pones help(Tienda) y lo ejecutas\n",
    "    saldrá este comentario\n",
    "    '''\n",
    "    tipo = \"electrodomesticos\" #atributos de clase\n",
    "    abierta = True\n",
    "    def __init__ (self, nombre, direccion, numero_empleados, ventas_3_meses): #Instancia es cada una de las tiendas de la clase\n",
    "        self.direccion = str(direccion)                                       #__init__ inicializa instancias de la clase tienda\n",
    "        self.nombre = str(nombre)\n",
    "        self.numero_empleados = int(numero_empleados)\n",
    "        self.ventas_3_meses = list(ventas_3_meses)\n",
    "    \n",
    "    #Ventas de los últimos 3 meses sumada\n",
    "    def suma_ventas (self):\n",
    "        return sum(self.ventas_3_meses)\n",
    "    \n",
    "    #Ventas por empleado\n",
    "    def media_ventas_empleados (self):\n",
    "        return sum(self.ventas_3_meses) / self.numero_empleados #solo se suma las ventas porque es el único que tiene lista\n",
    "    \n",
    "    #Nombre de la tienda y su direccion\n",
    "    def info_tienda (self):\n",
    "        return self.nombre + \", \" + self.direccion\n",
    "    \n",
    "    #ventas del último mes\n",
    "    def ventas_ultimo_mes (self):\n",
    "        return self.ventas_3_meses[-1]\n",
    "    \n",
    "    #Inversion marketing\n",
    "    def aumento_marketing (self, inviersion):\n",
    "        if inviersion < 1000:\n",
    "            ROI_mkt = 1.2*sum(self.ventas_3_meses)\n",
    "            return ROI_mkt\n",
    "        else:\n",
    "            ROI_mkt = 1.5*sum(self.ventas_3_meses)\n",
    "            return ROI_mkt\n",
    "\n",
    "\n",
    "#definicion de tiendas\n",
    "tienda1 = Tienda(\"tienda_grande\", \"Calle Alcalá\", 10, [15, 90, 50])\n",
    "tienda2 = Tienda(\"tienda_mediana\", \"Calle Olivares\", 7, [15, 55, 50])\n",
    "tienda3 = Tienda(\"tienda_pequeña\", \"Calle Ramón y Cajal\", 3, [7, 20, 25])\n",
    "\n",
    "print(tienda1.__dict__)\n",
    "\n",
    "#comprobacion de funciones\n",
    "print(\"Suma de ventas\", tienda1.suma_ventas())\n",
    "print(\"Media de ventar por empleado\", tienda1.media_ventas_empleados())\n",
    "print(\"información de la tienda:\", tienda1.info_tienda())\n",
    "print(\"Ventas del último mes:\", tienda1.ventas_ultimo_mes())\n",
    "print(\"Aumento de las ventas en función al marketing\", tienda1.aumento_marketing(1500))"
   ]
  },
  {
   "cell_type": "code",
   "execution_count": 8,
   "metadata": {},
   "outputs": [
    {
     "data": {
      "text/plain": [
       "'electrodomesticos'"
      ]
     },
     "execution_count": 8,
     "metadata": {},
     "output_type": "execute_result"
    }
   ],
   "source": [
    "#para consultar el valor predefinido de un atributo fijo en una clase\n",
    "\n",
    "Tienda.tipo"
   ]
  },
  {
   "cell_type": "markdown",
   "metadata": {},
   "source": [
    "## Ejercicio 2\n",
    "En este ejercicio vamos a implementar una clase *Perro* en Python. La clase tiene las siguientes características:\n",
    "* Cosas que sabemos seguro que tiene un perro\n",
    "    * Tiene 4 patas\n",
    "    * 2 orejas\n",
    "    * 2 ojos\n",
    "    * Una velocidad de 0. Por defecto, el perro está parado\n",
    "* Cuando se inicialice:\n",
    "    * El perro será de una determinada raza\n",
    "    * Por defecto tendrá pelo \"Marrón\", a no ser que se diga lo contrario.\n",
    "    * Por defecto no tendrá dueño, a no ser que se diga lo contrario.\n",
    "    \n",
    "* Dispondrá también de un método llamado andar, que tiene un argumento de entrada (aumento_velocidad). Este valor se le sumará a la velocidad que ya llevaba el perro.\n",
    "* Necesita otro método (parar), donde pondremos la velocidad a 0.\n",
    "* Otro método llamado \"ladrar\", que tendrá un argumento de entrada, y la salida será el siguiente string: \"GUAU!\" + el argumento de entrada.\n",
    "\n",
    "\n",
    "Se pide:\n",
    "* Implementa la clase *Perro*\n",
    "* Crea un objeto de tipo *Perro*, sin dueño\n",
    "* Comprueba que están bien todos sus atributos\n",
    "* Prueba que ande, y comprueba su velocidad\n",
    "* Páralo\n",
    "* Documenta la clase *Perro*"
   ]
  },
  {
   "cell_type": "code",
   "execution_count": 81,
   "metadata": {},
   "outputs": [
    {
     "name": "stdout",
     "output_type": "stream",
     "text": [
      "labrador\n",
      "marron\n",
      "ninguno\n",
      "5\n",
      "15\n",
      "0\n",
      "Ataca! GUAU!\n"
     ]
    }
   ],
   "source": [
    "class Perro:\n",
    "    patas = 4\n",
    "    orejas = 2\n",
    "    ojos = 2\n",
    "    def __init__(self, raza, pelo=\"marron\", dueno=\"ninguno\", velocidad = 0):\n",
    "        self.raza = raza\n",
    "        self.pelo = pelo\n",
    "        self.dueno = dueno\n",
    "        self.velocidad = 0   #esto me lo ha dado la solucion\n",
    "\n",
    "#Cambio de velocidad, para andar\n",
    "    def andar (self, aumento_velocidad): #de doncde sale aumento_velocidad\n",
    "        self.velocidad += aumento_velocidad\n",
    "#Dejar la velocidad a 0   \n",
    "    def parar (self):\n",
    "        self.velocidad = 0\n",
    "#Funcion para que ladre en cuanto se le entregue un mensaje   \n",
    "    def ladrar (self, mensaje):\n",
    "        self.ladrido= str(mensaje) +\" \"+ \"GUAU!\"\n",
    "        print(self.ladrido)\n",
    "\n",
    "perro1 = Perro(\"labrador\")\n",
    "print(perro1.raza)\n",
    "print(perro1.pelo)\n",
    "print(perro1.dueno)\n",
    "perro1.andar(5)\n",
    "print(perro1.velocidad)\n",
    "perro1.andar(10)\n",
    "print(perro1.velocidad)\n",
    "perro1.parar()\n",
    "print(perro1.velocidad)\n",
    "perro1.ladrar(\"Ataca!\")"
   ]
  },
  {
   "cell_type": "markdown",
   "metadata": {},
   "source": [
    "**Ejercicio crear clases sobre gamers (práctica en clase)**"
   ]
  },
  {
   "cell_type": "code",
   "execution_count": null,
   "metadata": {},
   "outputs": [
    {
     "name": "stdout",
     "output_type": "stream",
     "text": [
      "['hola']\n",
      "True\n",
      "False\n",
      "El pais es España\n",
      "43\n",
      "False\n"
     ]
    },
    {
     "data": {
      "text/plain": [
       "43"
      ]
     },
     "execution_count": 41,
     "metadata": {},
     "output_type": "execute_result"
    }
   ],
   "source": [
    "class Jugador:\n",
    "    \n",
    "    online = True\n",
    "    lista_medallas = []\n",
    "\n",
    "    def __init__(self, nombre, edad, experiencia, lista_equipos, pais): #Lo del parentesis son atributos de la instancia\n",
    "        self.nombre = nombre\n",
    "        self.edad = edad\n",
    "        self.experiencia = experiencia\n",
    "        self.lista_equipos = lista_equipos\n",
    "        self.pais = pais\n",
    "\n",
    "#decorar instancias = modifica su comportamiento por defectos\n",
    "# El class method tiene que ir pedado a la def, sin separaciones entre lineas\n",
    "    @classmethod\n",
    "    def cambia_online (cls, online): # el cls es somo el self pero de la clase\n",
    "        cls.online = online\n",
    "\n",
    "    #Metodo que no llega al jugador\n",
    "    @staticmethod\n",
    "    def suma(m,n):\n",
    "        print(m+n)\n",
    "\n",
    "    def __str__(self):  #este metodo combierte el pais en string \n",
    "        return \"El pais es \" + str(self.pais)\n",
    "       #return \"la edad es\" + str(self.edad)    siempre hay que poner str() en el return de la clase\n",
    "    \n",
    "    def __add__ (self, anyo): \n",
    "        return self.edad + anyo\n",
    "    \n",
    "    def __eq__ (self, other):\n",
    "        return (self.experiencia == other.experiencia)\n",
    "    \n",
    "    def __call__ (self): #añadir un año al jugador y cambiarlo ese año en el atributo\n",
    "        self.edad = self.edad+1\n",
    "\n",
    "jugador1 = Jugador(\"Alberto\", 42, \"diamante\", [\"gaming_madrid\", \"bridge_gaming\"], \"España\")\n",
    "jugador1.lista_medallas.append(\"hola\")\n",
    "#esto es lo mismo que Jugador.lista_medallas.append(\"hola\")\n",
    "\n",
    "#la__ delante y detras interpresa que lo que va delante es el nombre de la clase\n",
    "\n",
    "jugador1.online = False\n",
    "\n",
    "\n",
    "jugador2 = Jugador(\"Hugo\", 3000, \"platino\", [\"bridge_gaming\"], \"España\")\n",
    "\n",
    "print(jugador2.lista_medallas)\n",
    "print(jugador2.online)\n",
    "print(jugador1.online)  \n",
    "\n",
    "print(str(jugador1)) #Este STR de delante lo que llama es a la funcion __str__ del jugador1\n",
    "print(jugador1+1) #este llama al metodo de add \n",
    "print(jugador1==jugador2) #llama a la funcion eq que compara a los diferentes jugadores\n",
    "\n",
    "jugador1()\n",
    "jugador1.edad #añair un año al jugador 1"
   ]
  },
  {
   "cell_type": "code",
   "execution_count": 43,
   "metadata": {},
   "outputs": [
    {
     "name": "stdout",
     "output_type": "stream",
     "text": [
      "rosa\n",
      "[]\n",
      "margarita\n",
      "['!HOLA¡']\n",
      "flor\n",
      "['!HOLA¡']\n"
     ]
    }
   ],
   "source": [
    "class Cosa:\n",
    "    def __init__ (self, una_palabra = \"flor\", una_lista= []):\n",
    "        self.una_palabra = una_palabra\n",
    "        self.una_lista = una_lista\n",
    "    \n",
    "c1 = Cosa(\"rosa\", [])\n",
    "print(c1.una_palabra)\n",
    "print(c1.una_lista)\n",
    "\n",
    "c2 = Cosa(\"margarita\")\n",
    "c2.una_lista.append(\"!HOLA¡\")\n",
    "print(c2.una_palabra)\n",
    "print(c2.una_lista)\n",
    "\n",
    "c3= Cosa()\n",
    "\n",
    "print(c3.una_palabra)\n",
    "print(c3.una_lista)"
   ]
  },
  {
   "cell_type": "code",
   "execution_count": null,
   "metadata": {},
   "outputs": [],
   "source": []
  }
 ],
 "metadata": {
  "kernelspec": {
   "display_name": "Python 3",
   "language": "python",
   "name": "python3"
  },
  "language_info": {
   "codemirror_mode": {
    "name": "ipython",
    "version": 3
   },
   "file_extension": ".py",
   "mimetype": "text/x-python",
   "name": "python",
   "nbconvert_exporter": "python",
   "pygments_lexer": "ipython3",
   "version": "3.13.3"
  }
 },
 "nbformat": 4,
 "nbformat_minor": 4
}
