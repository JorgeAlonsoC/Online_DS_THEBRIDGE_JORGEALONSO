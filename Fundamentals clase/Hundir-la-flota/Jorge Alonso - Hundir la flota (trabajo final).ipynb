{
 "cells": [
  {
   "cell_type": "markdown",
   "metadata": {},
   "source": [
    "![imagen](./img/hundir-la-flota-juego-de-mesa.jpg)"
   ]
  },
  {
   "cell_type": "markdown",
   "metadata": {},
   "source": [
    "En esta entrega vas a crear tu propio juego de **Hundir la flota** en Python. \n",
    "[Aquí](http://es.battleship-game.org/) podrás probarlo online."
   ]
  },
  {
   "attachments": {},
   "cell_type": "markdown",
   "metadata": {},
   "source": [
    "### En clase\n",
    "1. Crea la función `crear_tablero(tamaño)`, un tablero por defecto de 10x10 relleno del carácter \"_\" con numpy.\n",
    "2. Crea la función `colocar_barco(barco, tablero)`, que recibirá la lista de casillas de un barco y el tablero donde colocarlo. Prueba primero a posicionar un par de barcos por ejemplo en [(0,1), (1,1)] y [(1,3), (1,4), (1,5), (1,6)]. Los barcos serán Os mayúsculas. Como ves, un barco de dos posiciones de eslora y otro de cuatro.\n",
    "3. Crea la función `disparar(casilla, tablero)`, si el disparo acierta en un barco sustituye la O por una X (tocado), si es agua, sustituye la _ por una A (Agua). Prueba primero a disparar el barco de 2 casillas.\n",
    "4. Crea la función `crear_barco(eslora)`, que deberá crear una lista de casillas de un barco en función a la eslora, de forma aleatoria.\n",
    "\n",
    "### Proyecto individual\n",
    "1. Crea la función `colocar_barcos(tablero)`, que deberá de colocar la lista de barcos generados de forma aleatoria (6 barcos en total (3 barcos de eslora 2, 2 de eslora 3 y 1 eslora 4)) ¡Mucho ojo con barcos que estén superpuestos (no pueden ocupar dos barcos la misma casilla) o barcos que se salgan del tablero!\n",
    "2. Escribe el flujo completo del programa, con la dinámica de turnos y funcionalidades necesarios para jugar contra la máquina (dispara a tu tablero de forma aleatoria). Crea todas las funciones que necesites y aplica todo lo aprendido que te sea útil.\n",
    "3. Encapsula todo en un `main.py` y un `utils.py` para ejecutarlo desde terminal.\n",
    "4. Sube tu proyecto a un repositorio de github y prepara una demo (solo se podrá enseñar desde terminal) para la presentación de tu proyecto."
   ]
  },
  {
   "cell_type": "markdown",
   "metadata": {},
   "source": [
    "## Presentación\n",
    "Cada uno realizará una presentación el **lunes 16 de junio**, donde se contarán con **10 minutos máximo**, importante ceñirse al tiempo. Se tendrá que enseñar:\n",
    "1. El git clone del repositorio de github a tu ordenador y explicar las partes más relevantes del código.\n",
    "2. Una demo donde se muestre el correcto funcionamiento del código para jugar, ejecutándose desde terminal.\n",
    "3. Explicación de la lógica de las partes más relevantes del código desarrollado."
   ]
  },
  {
   "cell_type": "markdown",
   "metadata": {},
   "source": [
    "\n",
    "**<center>Pasos a seguir para crear hundir la flota<center>**\n"
   ]
  },
  {
   "cell_type": "markdown",
   "metadata": {},
   "source": [
    "\n",
    "1. Crear los 2 tableros (tableros de 10 x 10 con el caracter `_` por defecto). Para separar ambos tableros imprimo 20 asteriscos entre uno y otro.\n",
    "2. Crear los barcos (3 barcos de tamaño 2, 2 barcos de tamaño 3 y 1 barco de tamaño 4). Creo que para esto hay que definir la clase `Barco` y crearlos.\n",
    "3. Colocarlos en los tableros (utilizando el código que nos dan en los consejos). La máquina se pone de forma aleatoria pero yo lo tengo que poner de forma manual. Se debe colocar `O` en las casillas donde se ubican los barcos.\n",
    "4. Crear la función `disparar` a una coordenada concreta. Si da en un barco, que cambie la `O` por la `X`, y si toca agua, por `+`.\n",
    "5. Debe contabilizar cuántas `O` hay en el tablero, y en el momento que no quede ninguna, se acaba la partida. El tablero que se quede sin `O` ha perdido."
   ]
  },
  {
   "cell_type": "markdown",
   "metadata": {},
   "source": [
    "**Hundir la flota**"
   ]
  },
  {
   "cell_type": "code",
   "execution_count": 43,
   "metadata": {},
   "outputs": [],
   "source": [
    "#Crear ambos taleros\n",
    "import numpy as np\n",
    "import random"
   ]
  },
  {
   "cell_type": "code",
   "execution_count": 44,
   "metadata": {},
   "outputs": [],
   "source": [
    "#Funcion utilizada para crear tableros, que si no se dicen nada son de 10x10\n",
    "\n",
    "def crear_tablero (lado = 10): \n",
    "    tablero = np.full((lado,lado),\"_\")\n",
    "    return tablero"
   ]
  },
  {
   "cell_type": "code",
   "execution_count": 45,
   "metadata": {},
   "outputs": [
    {
     "name": "stdout",
     "output_type": "stream",
     "text": [
      "[['_' '_' '_' '_' '_' '_' '_' '_' '_' '_']\n",
      " ['_' '_' '_' '_' '_' '_' '_' '_' '_' '_']\n",
      " ['_' '_' '_' '_' '_' '_' '_' '_' '_' '_']\n",
      " ['_' '_' '_' '_' '_' '_' '_' '_' '_' '_']\n",
      " ['_' '_' '_' '_' '_' '_' '_' '_' '_' '_']\n",
      " ['_' '_' '_' '_' '_' '_' '_' '_' '_' '_']\n",
      " ['_' '_' '_' '_' '_' '_' '_' '_' '_' '_']\n",
      " ['_' '_' '_' '_' '_' '_' '_' '_' '_' '_']\n",
      " ['_' '_' '_' '_' '_' '_' '_' '_' '_' '_']\n",
      " ['_' '_' '_' '_' '_' '_' '_' '_' '_' '_']]\n",
      "********************\n",
      "[['_' '_' '_' '_' '_' '_' '_' '_' '_' '_']\n",
      " ['_' '_' '_' '_' '_' '_' '_' '_' '_' '_']\n",
      " ['_' '_' '_' '_' '_' '_' '_' '_' '_' '_']\n",
      " ['_' '_' '_' '_' '_' '_' '_' '_' '_' '_']\n",
      " ['_' '_' '_' '_' '_' '_' '_' '_' '_' '_']\n",
      " ['_' '_' '_' '_' '_' '_' '_' '_' '_' '_']\n",
      " ['_' '_' '_' '_' '_' '_' '_' '_' '_' '_']\n",
      " ['_' '_' '_' '_' '_' '_' '_' '_' '_' '_']\n",
      " ['_' '_' '_' '_' '_' '_' '_' '_' '_' '_']\n",
      " ['_' '_' '_' '_' '_' '_' '_' '_' '_' '_']]\n"
     ]
    }
   ],
   "source": [
    "#Hemos creado dos tableros, uno para la máquina y otro para el jugador\n",
    "\n",
    "tablero_jugador = crear_tablero()\n",
    "tablero_maquina = crear_tablero()\n",
    "print(tablero_jugador)\n",
    "print(20*\"*\")\n",
    "print(tablero_maquina)"
   ]
  },
  {
   "cell_type": "code",
   "execution_count": 21,
   "metadata": {},
   "outputs": [
    {
     "data": {
      "text/plain": [
       "' CREO QUE AL FINAL NO ES NECESARIO ESTO\\n\\n#crear una clase llamada barco\\nclass Barco:\\n    def __init__(self, dimension): #La dimension indica el tamaño del barco        \\n        self.dimension = dimension \\n\\n#crear los diferentes tipos de barcos que se van a colocar en el tablero\\n\\nbarco1_dimension2 = Barco(2)\\nbarco2_dimension2 = Barco(2)\\nbarco3_dimension2 = Barco(2)\\nbarco1_dimensaion3 = Barco(3)\\nbarco2_dimensaion3 = Barco(3)\\nbarco1_dimensaion4 = Barco(4)\\n'"
      ]
     },
     "execution_count": 21,
     "metadata": {},
     "output_type": "execute_result"
    }
   ],
   "source": [
    "''' CREO QUE AL FINAL NO ES NECESARIO ESTO\n",
    "\n",
    "#crear una clase llamada barco\n",
    "class Barco:\n",
    "    def __init__(self, dimension): #La dimension indica el tamaño del barco        \n",
    "        self.dimension = dimension \n",
    "\n",
    "#crear los diferentes tipos de barcos que se van a colocar en el tablero\n",
    "\n",
    "barco1_dimension2 = Barco(2)\n",
    "barco2_dimension2 = Barco(2)\n",
    "barco3_dimension2 = Barco(2)\n",
    "barco1_dimensaion3 = Barco(3)\n",
    "barco2_dimensaion3 = Barco(3)\n",
    "barco1_dimensaion4 = Barco(4)\n",
    "'''"
   ]
  },
  {
   "cell_type": "code",
   "execution_count": 46,
   "metadata": {},
   "outputs": [
    {
     "name": "stdout",
     "output_type": "stream",
     "text": [
      "[['_' 'O' '_' '_' '_' '_' '_' '_' '_' '_']\n",
      " ['_' 'O' '_' '_' '_' 'O' 'O' 'O' '_' '_']\n",
      " ['_' '_' '_' '_' '_' '_' '_' '_' '_' '_']\n",
      " ['_' 'O' '_' '_' '_' '_' '_' '_' '_' '_']\n",
      " ['_' 'O' '_' '_' '_' '_' '_' '_' '_' '_']\n",
      " ['_' 'O' '_' 'O' 'O' '_' '_' '_' '_' '_']\n",
      " ['_' 'O' '_' '_' '_' '_' '_' 'O' '_' '_']\n",
      " ['_' '_' '_' '_' '_' '_' '_' 'O' '_' '_']\n",
      " ['_' '_' '_' '_' '_' '_' '_' '_' '_' '_']\n",
      " ['_' 'O' 'O' 'O' '_' '_' '_' '_' '_' '_']]\n"
     ]
    }
   ],
   "source": [
    "#colocar los barcos en el tablero\n",
    "\n",
    "\n",
    "#duncion para poder colocar los barcos\n",
    "def coloca_barco(tablero_jugador, barco):\n",
    "    for pieza in barco: #un trocito de barco\n",
    "        tablero_jugador[pieza] = \"O\" #siempre se accede con corchetes\n",
    "    return tablero_jugador #devuelve el tabllero con las o colocadas y modificado\n",
    "\n",
    "#Colocar los barcosa del jugador\n",
    "\n",
    "barco1 = [(0,1),(1,1)] #fila,columna (tamaño2)\n",
    "tablero_jugador = coloca_barco(tablero_jugador, barco1)\n",
    "\n",
    "barco2 = [(5,3),(5,4)]\n",
    "tablero_jugador = coloca_barco (tablero_jugador, barco2)\n",
    "\n",
    "barco3 = [(6,7), (7,7)]\n",
    "tablero_jugador = coloca_barco (tablero_jugador, barco3)\n",
    "\n",
    "barco4 = [(9,1),(9,2),(9,3)]\n",
    "tablero_jugador = coloca_barco (tablero_jugador, barco4)\n",
    "\n",
    "barco5 = [(1,5),(1,6),(1,7)]\n",
    "tablero_jugador = coloca_barco (tablero_jugador, barco5)\n",
    "\n",
    "barco6 = [(3,1),(4,1),(5,1),(6,1)]\n",
    "tablero_jugador = coloca_barco (tablero_jugador, barco6)\n",
    "\n",
    "print(tablero_jugador)\n",
    "\n",
    "#Ya se han colocado todos los barcos (6) en el tablero del jugador"
   ]
  },
  {
   "cell_type": "code",
   "execution_count": 47,
   "metadata": {},
   "outputs": [
    {
     "name": "stdout",
     "output_type": "stream",
     "text": [
      "[['_' '_' '_' '_' '_' '_' '_' '_' '_' '_']\n",
      " ['_' 'O' 'O' '_' '_' '_' '_' '_' '_' 'O']\n",
      " ['_' '_' '_' '_' '_' '_' '_' '_' '_' 'O']\n",
      " ['_' '_' '_' '_' '_' '_' 'O' 'O' '_' 'O']\n",
      " ['_' '_' '_' '_' '_' '_' '_' '_' '_' 'O']\n",
      " ['_' '_' '_' '_' '_' 'O' 'O' 'O' '_' '_']\n",
      " ['_' '_' '_' '_' '_' '_' '_' '_' '_' '_']\n",
      " ['_' '_' '_' 'O' 'O' '_' '_' '_' '_' '_']\n",
      " ['_' '_' '_' '_' '_' '_' '_' '_' '_' '_']\n",
      " ['_' '_' '_' '_' '_' '_' '_' 'O' 'O' 'O']]\n"
     ]
    }
   ],
   "source": [
    "#He creado el tablero de la máquina de esta forma ya que no lo he conseguido con el formato random\n",
    "\n",
    "#duncion para poder colocar los barcos\n",
    "def coloca_barco_maquina(tablero_maquina, barco):\n",
    "    for pieza in barco: #un trocito de barco\n",
    "        tablero_maquina[pieza] = \"O\" #siempre se accede con corchetes\n",
    "    return tablero_maquina #devuelve el tabllero con las o colocadas y modificado\n",
    "\n",
    "#Colocar los barcosa del jugador\n",
    "\n",
    "barco1_maquina = [(1,1),(1,2)] #fila,columna (tamaño2)\n",
    "tablero_maquina = coloca_barco_maquina(tablero_maquina, barco1_maquina)\n",
    "\n",
    "barco2_maquina = [(7,3),(7,4)]\n",
    "tablero_maquina = coloca_barco_maquina (tablero_maquina, barco2_maquina)\n",
    "\n",
    "barco3_maquina = [(3,7), (3,6)]\n",
    "tablero_maquina = coloca_barco_maquina (tablero_maquina, barco3_maquina)\n",
    "\n",
    "barco4_maquina = [(9,9),(9,8),(9,7)]\n",
    "tablero_maquina = coloca_barco_maquina (tablero_maquina, barco4_maquina)\n",
    "\n",
    "barco5_maquina = [(5,5),(5,6),(5,7)]\n",
    "tablero_maquina = coloca_barco_maquina (tablero_maquina, barco5_maquina)\n",
    "\n",
    "barco6_maquina = [(1,9),(2,9),(3,9),(4,9)]\n",
    "tablero_maquina = coloca_barco_maquina (tablero_maquina, barco6_maquina)\n",
    "\n",
    "print(tablero_maquina)\n",
    "\n",
    "#Ya se han colocado todos los barcos (6) en el tablero del jugador"
   ]
  },
  {
   "cell_type": "code",
   "execution_count": 48,
   "metadata": {},
   "outputs": [],
   "source": [
    "# Funcion recibir disparo, cuando el enemigo te dice unas coordenadas, comprueba si has recibito un disparo o ha sido en agua\n",
    "\n",
    "disparos_recibidos = []\n",
    "\n",
    "def recibir_disparo (tablero_jugador, coordenada):\n",
    "\n",
    "    if tablero_jugador [coordenada] == \"O\":\n",
    "        tablero_jugador [coordenada] =\"X\"\n",
    "        disparos_recibidos.append(coordenada) #en caso de que reciba un disparo, se añada a una lista que está vacía de disparos recibidos\n",
    "        print (\"Barco tocado\")\n",
    "        if len (disparos_recibidos) == 16: #16, son el número total de coordenadas que ocupan los barcos. Si me han dado 16 veces, y por tanto tengo 16 valores en la lista, habrán hundido todos mis barcos.\n",
    "            print(\"Game Over\")\n",
    "    elif tablero_jugador [coordenada] == \"_\":\n",
    "        tablero_jugador [coordenada] = \"+\"\n",
    "        print (\"Agua\")\n",
    "    else:\n",
    "        print (\"Has vuelto a disparar en la misma coordenada\")\n"
   ]
  },
  {
   "cell_type": "code",
   "execution_count": null,
   "metadata": {},
   "outputs": [
    {
     "name": "stdout",
     "output_type": "stream",
     "text": [
      "Has vuelto a disparar en la misma coordenada\n",
      "[['_' 'O' '_' '_' '_' '_' '_' '_' '_' '_']\n",
      " ['_' 'X' '_' '_' '_' 'O' 'O' 'O' '_' '_']\n",
      " ['_' '_' '_' '_' '_' '_' '_' '_' '_' '_']\n",
      " ['_' 'O' '_' '_' '_' '_' '_' '_' '_' '_']\n",
      " ['_' 'O' '_' '_' 'X' '_' 'X' '_' '_' '_']\n",
      " ['_' 'O' '_' 'O' 'O' '_' '_' '_' '_' '_']\n",
      " ['_' 'O' '_' '_' '_' '_' '_' 'O' '_' '_']\n",
      " ['_' '_' '_' '_' '_' '_' '_' 'O' '_' '_']\n",
      " ['_' '_' '_' '_' '_' '_' '_' '_' '_' '_']\n",
      " ['_' 'O' 'O' 'O' '_' '_' '_' '_' '_' '_']]\n",
      "[]\n"
     ]
    }
   ],
   "source": [
    "recibir_disparo(tablero_jugador, (1,1)) #Se puede ver que nos han tocado un barco. \n",
    "print(tablero_jugador) #Se está imprimiendo el tablero  con las coordenadas tocadas\n",
    "print (disparos_recibidos) #se puede ver que se han\n",
    "\n",
    "#¿Cómo puedo borrar la memoria para que se reinicie el tablero de 0?\n",
    "\n"
   ]
  },
  {
   "cell_type": "code",
   "execution_count": null,
   "metadata": {},
   "outputs": [],
   "source": [
    "#Exactamente el mimo proceso que en el paso anteriror pero en vez de recibir disparo, realizar un disparo, por lo que va al tablero de la máquina\n",
    "\n",
    "disparos_realizados = []\n",
    "\n",
    "def realizar_disparo (tablero_maquina, coordenada):\n",
    "\n",
    "    if tablero_maquina [coordenada] == \"O\":\n",
    "        tablero_maquina [coordenada] =\"X\"\n",
    "        disparos_realizados.append(coordenada) \n",
    "        print (\"Barco tocado\")\n",
    "        if len (disparos_realizados) == 16: \n",
    "            print(\"Has ganado la partida, has hundido todos sus barcos\")\n",
    "    elif tablero_maquina [coordenada] == \"_\":\n",
    "        tablero_maquina [coordenada] = \"+\"\n",
    "        print (\"Agua\")\n",
    "    else:\n",
    "        print (\"Has vuelto a disparar en la misma coordenada\")"
   ]
  },
  {
   "cell_type": "code",
   "execution_count": 52,
   "metadata": {},
   "outputs": [
    {
     "name": "stdout",
     "output_type": "stream",
     "text": [
      "Barco tocado\n",
      "[['_' '_' '_' '_' '_' '_' '_' '_' '_' '_']\n",
      " ['_' 'O' 'O' '_' '_' '_' '_' '_' '_' 'O']\n",
      " ['_' '_' '_' '_' '_' '_' '_' '_' '_' 'O']\n",
      " ['_' '_' '_' '_' '_' '_' 'O' 'X' '_' 'O']\n",
      " ['_' '_' '_' '_' '_' '_' '_' '_' '_' 'O']\n",
      " ['_' '_' '_' '_' '_' 'O' 'O' 'O' '_' '_']\n",
      " ['_' '_' '_' '_' '_' '_' '_' '_' '_' '_']\n",
      " ['_' '_' '_' 'O' 'O' '_' '_' '_' '_' '_']\n",
      " ['_' '_' '_' '_' '_' '_' '_' '_' '_' '_']\n",
      " ['_' '_' '_' '_' '_' '_' '_' 'O' 'O' 'O']]\n",
      "[(3, 7)]\n"
     ]
    }
   ],
   "source": [
    "realizar_disparo (tablero_maquina,(3,7))\n",
    "print(tablero_maquina)\n",
    "print(disparos_realizados)"
   ]
  },
  {
   "cell_type": "code",
   "execution_count": 53,
   "metadata": {},
   "outputs": [
    {
     "name": "stdout",
     "output_type": "stream",
     "text": [
      "Barco tocado\n",
      "[['_' '_' '_' '_' '_' '_' '_' '_' '_' '_']\n",
      " ['_' 'O' 'O' '_' '_' '_' '_' '_' '_' 'O']\n",
      " ['_' '_' '_' '_' '_' '_' '_' '_' '_' 'O']\n",
      " ['_' '_' '_' '_' '_' '_' 'X' 'X' '_' 'O']\n",
      " ['_' '_' '_' '_' '_' '_' '_' '_' '_' 'O']\n",
      " ['_' '_' '_' '_' '_' 'O' 'O' 'O' '_' '_']\n",
      " ['_' '_' '_' '_' '_' '_' '_' '_' '_' '_']\n",
      " ['_' '_' '_' 'O' 'O' '_' '_' '_' '_' '_']\n",
      " ['_' '_' '_' '_' '_' '_' '_' '_' '_' '_']\n",
      " ['_' '_' '_' '_' '_' '_' '_' 'O' 'O' 'O']]\n",
      "[(3, 7), (3, 6)]\n"
     ]
    }
   ],
   "source": [
    "#Voy a poner un ejemplo disparando a todas las coordenadas para ver si realmente sale el mensaje de has ganado la partida\n",
    "realizar_disparo (tablero_maquina,(3,6))\n",
    "print(tablero_maquina)\n",
    "print(disparos_realizados)"
   ]
  },
  {
   "cell_type": "code",
   "execution_count": 54,
   "metadata": {},
   "outputs": [
    {
     "name": "stdout",
     "output_type": "stream",
     "text": [
      "Barco tocado\n",
      "[['_' '_' '_' '_' '_' '_' '_' '_' '_' '_']\n",
      " ['_' 'X' 'O' '_' '_' '_' '_' '_' '_' 'O']\n",
      " ['_' '_' '_' '_' '_' '_' '_' '_' '_' 'O']\n",
      " ['_' '_' '_' '_' '_' '_' 'X' 'X' '_' 'O']\n",
      " ['_' '_' '_' '_' '_' '_' '_' '_' '_' 'O']\n",
      " ['_' '_' '_' '_' '_' 'O' 'O' 'O' '_' '_']\n",
      " ['_' '_' '_' '_' '_' '_' '_' '_' '_' '_']\n",
      " ['_' '_' '_' 'O' 'O' '_' '_' '_' '_' '_']\n",
      " ['_' '_' '_' '_' '_' '_' '_' '_' '_' '_']\n",
      " ['_' '_' '_' '_' '_' '_' '_' 'O' 'O' 'O']]\n",
      "[(3, 7), (3, 6), (1, 1)]\n"
     ]
    }
   ],
   "source": [
    "realizar_disparo (tablero_maquina,(1,1))\n",
    "print(tablero_maquina)\n",
    "print(disparos_realizados)"
   ]
  },
  {
   "cell_type": "code",
   "execution_count": 55,
   "metadata": {},
   "outputs": [
    {
     "name": "stdout",
     "output_type": "stream",
     "text": [
      "Barco tocado\n",
      "[['_' '_' '_' '_' '_' '_' '_' '_' '_' '_']\n",
      " ['_' 'X' 'X' '_' '_' '_' '_' '_' '_' 'O']\n",
      " ['_' '_' '_' '_' '_' '_' '_' '_' '_' 'O']\n",
      " ['_' '_' '_' '_' '_' '_' 'X' 'X' '_' 'O']\n",
      " ['_' '_' '_' '_' '_' '_' '_' '_' '_' 'O']\n",
      " ['_' '_' '_' '_' '_' 'O' 'O' 'O' '_' '_']\n",
      " ['_' '_' '_' '_' '_' '_' '_' '_' '_' '_']\n",
      " ['_' '_' '_' 'O' 'O' '_' '_' '_' '_' '_']\n",
      " ['_' '_' '_' '_' '_' '_' '_' '_' '_' '_']\n",
      " ['_' '_' '_' '_' '_' '_' '_' 'O' 'O' 'O']]\n",
      "[(3, 7), (3, 6), (1, 1), (1, 2)]\n"
     ]
    }
   ],
   "source": [
    "realizar_disparo (tablero_maquina,(1,2))\n",
    "print(tablero_maquina)\n",
    "print(disparos_realizados)"
   ]
  },
  {
   "cell_type": "code",
   "execution_count": null,
   "metadata": {},
   "outputs": [
    {
     "name": "stdout",
     "output_type": "stream",
     "text": [
      "Agua\n",
      "[['_' '_' '_' '_' '_' '_' '_' '_' '_' '_']\n",
      " ['_' 'X' 'X' '_' '_' '_' '_' '_' '_' 'O']\n",
      " ['_' '_' '_' '_' '_' '_' '_' '_' '_' 'O']\n",
      " ['_' '_' '_' '_' '_' '_' 'X' 'X' '_' 'O']\n",
      " ['+' '_' '_' '_' '_' '_' '_' '_' '_' 'O']\n",
      " ['_' '_' '_' '_' '_' 'O' 'O' 'O' '_' '_']\n",
      " ['_' '_' '_' '_' '_' '_' '_' '_' '_' '_']\n",
      " ['_' '_' '_' 'O' 'O' '_' '_' '_' '_' '_']\n",
      " ['_' '_' '_' '_' '_' '_' '_' '_' '_' '_']\n",
      " ['_' '_' '_' '_' '_' '_' '_' 'O' 'O' 'O']]\n",
      "[(3, 7), (3, 6), (1, 1), (1, 2)]\n"
     ]
    }
   ],
   "source": [
    "#voy a fallar uno para ver como reacciona\n",
    "realizar_disparo (tablero_maquina,(4,0)) #vemos que nos imprime agua y no se suma a la lista\n",
    "print(tablero_maquina)\n",
    "print(disparos_realizados)"
   ]
  },
  {
   "cell_type": "code",
   "execution_count": 57,
   "metadata": {},
   "outputs": [
    {
     "name": "stdout",
     "output_type": "stream",
     "text": [
      "Barco tocado\n",
      "[['_' '_' '_' '_' '_' '_' '_' '_' '_' '_']\n",
      " ['_' 'X' 'X' '_' '_' '_' '_' '_' '_' 'X']\n",
      " ['_' '_' '_' '_' '_' '_' '_' '_' '_' 'O']\n",
      " ['_' '_' '_' '_' '_' '_' 'X' 'X' '_' 'O']\n",
      " ['+' '_' '_' '_' '_' '_' '_' '_' '_' 'O']\n",
      " ['_' '_' '_' '_' '_' 'O' 'O' 'O' '_' '_']\n",
      " ['_' '_' '_' '_' '_' '_' '_' '_' '_' '_']\n",
      " ['_' '_' '_' 'O' 'O' '_' '_' '_' '_' '_']\n",
      " ['_' '_' '_' '_' '_' '_' '_' '_' '_' '_']\n",
      " ['_' '_' '_' '_' '_' '_' '_' 'O' 'O' 'O']]\n",
      "[(3, 7), (3, 6), (1, 1), (1, 2), (1, 9)]\n"
     ]
    }
   ],
   "source": [
    "realizar_disparo (tablero_maquina,(1,9))\n",
    "print(tablero_maquina)\n",
    "print(disparos_realizados)"
   ]
  },
  {
   "cell_type": "code",
   "execution_count": 58,
   "metadata": {},
   "outputs": [
    {
     "name": "stdout",
     "output_type": "stream",
     "text": [
      "Barco tocado\n",
      "[['_' '_' '_' '_' '_' '_' '_' '_' '_' '_']\n",
      " ['_' 'X' 'X' '_' '_' '_' '_' '_' '_' 'X']\n",
      " ['_' '_' '_' '_' '_' '_' '_' '_' '_' 'X']\n",
      " ['_' '_' '_' '_' '_' '_' 'X' 'X' '_' 'O']\n",
      " ['+' '_' '_' '_' '_' '_' '_' '_' '_' 'O']\n",
      " ['_' '_' '_' '_' '_' 'O' 'O' 'O' '_' '_']\n",
      " ['_' '_' '_' '_' '_' '_' '_' '_' '_' '_']\n",
      " ['_' '_' '_' 'O' 'O' '_' '_' '_' '_' '_']\n",
      " ['_' '_' '_' '_' '_' '_' '_' '_' '_' '_']\n",
      " ['_' '_' '_' '_' '_' '_' '_' 'O' 'O' 'O']]\n",
      "[(3, 7), (3, 6), (1, 1), (1, 2), (1, 9), (2, 9)]\n"
     ]
    }
   ],
   "source": [
    "realizar_disparo (tablero_maquina,(2,9))\n",
    "print(tablero_maquina)\n",
    "print(disparos_realizados)"
   ]
  },
  {
   "cell_type": "code",
   "execution_count": 59,
   "metadata": {},
   "outputs": [
    {
     "name": "stdout",
     "output_type": "stream",
     "text": [
      "Barco tocado\n",
      "[['_' '_' '_' '_' '_' '_' '_' '_' '_' '_']\n",
      " ['_' 'X' 'X' '_' '_' '_' '_' '_' '_' 'X']\n",
      " ['_' '_' '_' '_' '_' '_' '_' '_' '_' 'X']\n",
      " ['_' '_' '_' '_' '_' '_' 'X' 'X' '_' 'X']\n",
      " ['+' '_' '_' '_' '_' '_' '_' '_' '_' 'O']\n",
      " ['_' '_' '_' '_' '_' 'O' 'O' 'O' '_' '_']\n",
      " ['_' '_' '_' '_' '_' '_' '_' '_' '_' '_']\n",
      " ['_' '_' '_' 'O' 'O' '_' '_' '_' '_' '_']\n",
      " ['_' '_' '_' '_' '_' '_' '_' '_' '_' '_']\n",
      " ['_' '_' '_' '_' '_' '_' '_' 'O' 'O' 'O']]\n",
      "[(3, 7), (3, 6), (1, 1), (1, 2), (1, 9), (2, 9), (3, 9)]\n"
     ]
    }
   ],
   "source": [
    "realizar_disparo (tablero_maquina,(3,9))\n",
    "print(tablero_maquina)\n",
    "print(disparos_realizados)"
   ]
  },
  {
   "cell_type": "code",
   "execution_count": 60,
   "metadata": {},
   "outputs": [
    {
     "name": "stdout",
     "output_type": "stream",
     "text": [
      "Barco tocado\n",
      "[['_' '_' '_' '_' '_' '_' '_' '_' '_' '_']\n",
      " ['_' 'X' 'X' '_' '_' '_' '_' '_' '_' 'X']\n",
      " ['_' '_' '_' '_' '_' '_' '_' '_' '_' 'X']\n",
      " ['_' '_' '_' '_' '_' '_' 'X' 'X' '_' 'X']\n",
      " ['+' '_' '_' '_' '_' '_' '_' '_' '_' 'X']\n",
      " ['_' '_' '_' '_' '_' 'O' 'O' 'O' '_' '_']\n",
      " ['_' '_' '_' '_' '_' '_' '_' '_' '_' '_']\n",
      " ['_' '_' '_' 'O' 'O' '_' '_' '_' '_' '_']\n",
      " ['_' '_' '_' '_' '_' '_' '_' '_' '_' '_']\n",
      " ['_' '_' '_' '_' '_' '_' '_' 'O' 'O' 'O']]\n",
      "[(3, 7), (3, 6), (1, 1), (1, 2), (1, 9), (2, 9), (3, 9), (4, 9)]\n"
     ]
    }
   ],
   "source": [
    "realizar_disparo (tablero_maquina,(4,9))\n",
    "print(tablero_maquina)\n",
    "print(disparos_realizados)"
   ]
  },
  {
   "cell_type": "code",
   "execution_count": 61,
   "metadata": {},
   "outputs": [
    {
     "name": "stdout",
     "output_type": "stream",
     "text": [
      "Barco tocado\n",
      "[['_' '_' '_' '_' '_' '_' '_' '_' '_' '_']\n",
      " ['_' 'X' 'X' '_' '_' '_' '_' '_' '_' 'X']\n",
      " ['_' '_' '_' '_' '_' '_' '_' '_' '_' 'X']\n",
      " ['_' '_' '_' '_' '_' '_' 'X' 'X' '_' 'X']\n",
      " ['+' '_' '_' '_' '_' '_' '_' '_' '_' 'X']\n",
      " ['_' '_' '_' '_' '_' 'O' 'O' 'O' '_' '_']\n",
      " ['_' '_' '_' '_' '_' '_' '_' '_' '_' '_']\n",
      " ['_' '_' '_' 'O' 'O' '_' '_' '_' '_' '_']\n",
      " ['_' '_' '_' '_' '_' '_' '_' '_' '_' '_']\n",
      " ['_' '_' '_' '_' '_' '_' '_' 'O' 'O' 'X']]\n",
      "[(3, 7), (3, 6), (1, 1), (1, 2), (1, 9), (2, 9), (3, 9), (4, 9), (9, 9)]\n"
     ]
    }
   ],
   "source": [
    "realizar_disparo (tablero_maquina,(9,9))\n",
    "print(tablero_maquina)\n",
    "print(disparos_realizados)"
   ]
  },
  {
   "cell_type": "code",
   "execution_count": 62,
   "metadata": {},
   "outputs": [
    {
     "name": "stdout",
     "output_type": "stream",
     "text": [
      "Barco tocado\n",
      "[['_' '_' '_' '_' '_' '_' '_' '_' '_' '_']\n",
      " ['_' 'X' 'X' '_' '_' '_' '_' '_' '_' 'X']\n",
      " ['_' '_' '_' '_' '_' '_' '_' '_' '_' 'X']\n",
      " ['_' '_' '_' '_' '_' '_' 'X' 'X' '_' 'X']\n",
      " ['+' '_' '_' '_' '_' '_' '_' '_' '_' 'X']\n",
      " ['_' '_' '_' '_' '_' 'O' 'O' 'O' '_' '_']\n",
      " ['_' '_' '_' '_' '_' '_' '_' '_' '_' '_']\n",
      " ['_' '_' '_' 'O' 'O' '_' '_' '_' '_' '_']\n",
      " ['_' '_' '_' '_' '_' '_' '_' '_' '_' '_']\n",
      " ['_' '_' '_' '_' '_' '_' '_' 'O' 'X' 'X']]\n",
      "[(3, 7), (3, 6), (1, 1), (1, 2), (1, 9), (2, 9), (3, 9), (4, 9), (9, 9), (9, 8)]\n"
     ]
    }
   ],
   "source": [
    "realizar_disparo (tablero_maquina,(9,8))\n",
    "print(tablero_maquina)\n",
    "print(disparos_realizados)"
   ]
  },
  {
   "cell_type": "code",
   "execution_count": null,
   "metadata": {},
   "outputs": [
    {
     "name": "stdout",
     "output_type": "stream",
     "text": [
      "Agua\n",
      "[['_' '_' '_' '_' '_' '_' '_' '_' '_' '_']\n",
      " ['_' 'X' 'X' '_' '_' '_' '_' '_' '_' 'X']\n",
      " ['_' '_' '_' '_' '_' '_' '_' '_' '_' 'X']\n",
      " ['_' '_' '_' '_' '_' '_' 'X' 'X' '_' 'X']\n",
      " ['+' '_' '_' '_' '_' '_' '_' '_' '_' 'X']\n",
      " ['_' '_' '_' '_' '_' 'O' 'O' 'O' '_' '_']\n",
      " ['_' '_' '_' '_' '_' '_' '_' '_' '_' '_']\n",
      " ['_' '_' '_' 'O' 'O' '_' '_' '_' '+' '_']\n",
      " ['_' '_' '_' '_' '_' '_' '_' '_' '_' '_']\n",
      " ['_' '_' '_' '_' '_' '_' '_' 'O' 'X' 'X']]\n",
      "[(3, 7), (3, 6), (1, 1), (1, 2), (1, 9), (2, 9), (3, 9), (4, 9), (9, 9), (9, 8)]\n"
     ]
    }
   ],
   "source": [
    "#Disparo fallado\n",
    "realizar_disparo (tablero_maquina,(7,8))\n",
    "print(tablero_maquina)\n",
    "print(disparos_realizados)"
   ]
  },
  {
   "cell_type": "code",
   "execution_count": 64,
   "metadata": {},
   "outputs": [
    {
     "name": "stdout",
     "output_type": "stream",
     "text": [
      "Barco tocado\n",
      "[['_' '_' '_' '_' '_' '_' '_' '_' '_' '_']\n",
      " ['_' 'X' 'X' '_' '_' '_' '_' '_' '_' 'X']\n",
      " ['_' '_' '_' '_' '_' '_' '_' '_' '_' 'X']\n",
      " ['_' '_' '_' '_' '_' '_' 'X' 'X' '_' 'X']\n",
      " ['+' '_' '_' '_' '_' '_' '_' '_' '_' 'X']\n",
      " ['_' '_' '_' '_' '_' 'O' 'O' 'O' '_' '_']\n",
      " ['_' '_' '_' '_' '_' '_' '_' '_' '_' '_']\n",
      " ['_' '_' '_' 'O' 'O' '_' '_' '_' '+' '_']\n",
      " ['_' '_' '_' '_' '_' '_' '_' '_' '_' '_']\n",
      " ['_' '_' '_' '_' '_' '_' '_' 'X' 'X' 'X']]\n",
      "[(3, 7), (3, 6), (1, 1), (1, 2), (1, 9), (2, 9), (3, 9), (4, 9), (9, 9), (9, 8), (9, 7)]\n"
     ]
    }
   ],
   "source": [
    "realizar_disparo (tablero_maquina,(9,7))\n",
    "print(tablero_maquina)\n",
    "print(disparos_realizados)"
   ]
  },
  {
   "cell_type": "code",
   "execution_count": 65,
   "metadata": {},
   "outputs": [
    {
     "name": "stdout",
     "output_type": "stream",
     "text": [
      "Barco tocado\n",
      "[['_' '_' '_' '_' '_' '_' '_' '_' '_' '_']\n",
      " ['_' 'X' 'X' '_' '_' '_' '_' '_' '_' 'X']\n",
      " ['_' '_' '_' '_' '_' '_' '_' '_' '_' 'X']\n",
      " ['_' '_' '_' '_' '_' '_' 'X' 'X' '_' 'X']\n",
      " ['+' '_' '_' '_' '_' '_' '_' '_' '_' 'X']\n",
      " ['_' '_' '_' '_' '_' 'X' 'O' 'O' '_' '_']\n",
      " ['_' '_' '_' '_' '_' '_' '_' '_' '_' '_']\n",
      " ['_' '_' '_' 'O' 'O' '_' '_' '_' '+' '_']\n",
      " ['_' '_' '_' '_' '_' '_' '_' '_' '_' '_']\n",
      " ['_' '_' '_' '_' '_' '_' '_' 'X' 'X' 'X']]\n",
      "[(3, 7), (3, 6), (1, 1), (1, 2), (1, 9), (2, 9), (3, 9), (4, 9), (9, 9), (9, 8), (9, 7), (5, 5)]\n"
     ]
    }
   ],
   "source": [
    "realizar_disparo (tablero_maquina,(5,5))\n",
    "print(tablero_maquina)\n",
    "print(disparos_realizados)"
   ]
  },
  {
   "cell_type": "code",
   "execution_count": 66,
   "metadata": {},
   "outputs": [
    {
     "name": "stdout",
     "output_type": "stream",
     "text": [
      "Barco tocado\n",
      "[['_' '_' '_' '_' '_' '_' '_' '_' '_' '_']\n",
      " ['_' 'X' 'X' '_' '_' '_' '_' '_' '_' 'X']\n",
      " ['_' '_' '_' '_' '_' '_' '_' '_' '_' 'X']\n",
      " ['_' '_' '_' '_' '_' '_' 'X' 'X' '_' 'X']\n",
      " ['+' '_' '_' '_' '_' '_' '_' '_' '_' 'X']\n",
      " ['_' '_' '_' '_' '_' 'X' 'X' 'O' '_' '_']\n",
      " ['_' '_' '_' '_' '_' '_' '_' '_' '_' '_']\n",
      " ['_' '_' '_' 'O' 'O' '_' '_' '_' '+' '_']\n",
      " ['_' '_' '_' '_' '_' '_' '_' '_' '_' '_']\n",
      " ['_' '_' '_' '_' '_' '_' '_' 'X' 'X' 'X']]\n",
      "[(3, 7), (3, 6), (1, 1), (1, 2), (1, 9), (2, 9), (3, 9), (4, 9), (9, 9), (9, 8), (9, 7), (5, 5), (5, 6)]\n"
     ]
    }
   ],
   "source": [
    "realizar_disparo (tablero_maquina,(5,6))\n",
    "print(tablero_maquina)\n",
    "print(disparos_realizados)"
   ]
  },
  {
   "cell_type": "code",
   "execution_count": 67,
   "metadata": {},
   "outputs": [
    {
     "name": "stdout",
     "output_type": "stream",
     "text": [
      "Barco tocado\n",
      "[['_' '_' '_' '_' '_' '_' '_' '_' '_' '_']\n",
      " ['_' 'X' 'X' '_' '_' '_' '_' '_' '_' 'X']\n",
      " ['_' '_' '_' '_' '_' '_' '_' '_' '_' 'X']\n",
      " ['_' '_' '_' '_' '_' '_' 'X' 'X' '_' 'X']\n",
      " ['+' '_' '_' '_' '_' '_' '_' '_' '_' 'X']\n",
      " ['_' '_' '_' '_' '_' 'X' 'X' 'X' '_' '_']\n",
      " ['_' '_' '_' '_' '_' '_' '_' '_' '_' '_']\n",
      " ['_' '_' '_' 'O' 'O' '_' '_' '_' '+' '_']\n",
      " ['_' '_' '_' '_' '_' '_' '_' '_' '_' '_']\n",
      " ['_' '_' '_' '_' '_' '_' '_' 'X' 'X' 'X']]\n",
      "[(3, 7), (3, 6), (1, 1), (1, 2), (1, 9), (2, 9), (3, 9), (4, 9), (9, 9), (9, 8), (9, 7), (5, 5), (5, 6), (5, 7)]\n"
     ]
    }
   ],
   "source": [
    "realizar_disparo (tablero_maquina,(5,7))\n",
    "print(tablero_maquina)\n",
    "print(disparos_realizados)"
   ]
  },
  {
   "cell_type": "code",
   "execution_count": 68,
   "metadata": {},
   "outputs": [
    {
     "name": "stdout",
     "output_type": "stream",
     "text": [
      "Agua\n",
      "[['_' '_' '_' '_' '_' '_' '_' '_' '_' '_']\n",
      " ['_' 'X' 'X' '_' '_' '_' '_' '_' '_' 'X']\n",
      " ['_' '_' '_' '_' '_' '_' '_' '_' '_' 'X']\n",
      " ['_' '_' '_' '_' '_' '_' 'X' 'X' '_' 'X']\n",
      " ['+' '_' '_' '_' '_' '_' '_' '_' '_' 'X']\n",
      " ['_' '_' '_' '_' '_' 'X' 'X' 'X' '_' '_']\n",
      " ['_' '_' '_' '_' '_' '_' '_' '_' '_' '_']\n",
      " ['_' '_' '_' 'O' 'O' '_' '_' '_' '+' '_']\n",
      " ['_' '_' '_' '_' '_' '_' '_' '+' '_' '_']\n",
      " ['_' '_' '_' '_' '_' '_' '_' 'X' 'X' 'X']]\n",
      "[(3, 7), (3, 6), (1, 1), (1, 2), (1, 9), (2, 9), (3, 9), (4, 9), (9, 9), (9, 8), (9, 7), (5, 5), (5, 6), (5, 7)]\n"
     ]
    }
   ],
   "source": [
    "#Fallar un disparo\n",
    "\n",
    "realizar_disparo (tablero_maquina,(8,7))\n",
    "print(tablero_maquina)\n",
    "print(disparos_realizados)\n"
   ]
  },
  {
   "cell_type": "code",
   "execution_count": 69,
   "metadata": {},
   "outputs": [
    {
     "name": "stdout",
     "output_type": "stream",
     "text": [
      "Barco tocado\n",
      "[['_' '_' '_' '_' '_' '_' '_' '_' '_' '_']\n",
      " ['_' 'X' 'X' '_' '_' '_' '_' '_' '_' 'X']\n",
      " ['_' '_' '_' '_' '_' '_' '_' '_' '_' 'X']\n",
      " ['_' '_' '_' '_' '_' '_' 'X' 'X' '_' 'X']\n",
      " ['+' '_' '_' '_' '_' '_' '_' '_' '_' 'X']\n",
      " ['_' '_' '_' '_' '_' 'X' 'X' 'X' '_' '_']\n",
      " ['_' '_' '_' '_' '_' '_' '_' '_' '_' '_']\n",
      " ['_' '_' '_' 'X' 'O' '_' '_' '_' '+' '_']\n",
      " ['_' '_' '_' '_' '_' '_' '_' '+' '_' '_']\n",
      " ['_' '_' '_' '_' '_' '_' '_' 'X' 'X' 'X']]\n",
      "[(3, 7), (3, 6), (1, 1), (1, 2), (1, 9), (2, 9), (3, 9), (4, 9), (9, 9), (9, 8), (9, 7), (5, 5), (5, 6), (5, 7), (7, 3)]\n"
     ]
    }
   ],
   "source": [
    "realizar_disparo (tablero_maquina,(7,3))\n",
    "print(tablero_maquina)\n",
    "print(disparos_realizados)"
   ]
  },
  {
   "cell_type": "code",
   "execution_count": null,
   "metadata": {},
   "outputs": [
    {
     "name": "stdout",
     "output_type": "stream",
     "text": [
      "Barco tocado\n",
      "Has ganado la partida, has hundido todos sus barcos\n",
      "[['_' '_' '_' '_' '_' '_' '_' '_' '_' '_']\n",
      " ['_' 'X' 'X' '_' '_' '_' '_' '_' '_' 'X']\n",
      " ['_' '_' '_' '_' '_' '_' '_' '_' '_' 'X']\n",
      " ['_' '_' '_' '_' '_' '_' 'X' 'X' '_' 'X']\n",
      " ['+' '_' '_' '_' '_' '_' '_' '_' '_' 'X']\n",
      " ['_' '_' '_' '_' '_' 'X' 'X' 'X' '_' '_']\n",
      " ['_' '_' '_' '_' '_' '_' '_' '_' '_' '_']\n",
      " ['_' '_' '_' 'X' 'X' '_' '_' '_' '+' '_']\n",
      " ['_' '_' '_' '_' '_' '_' '_' '+' '_' '_']\n",
      " ['_' '_' '_' '_' '_' '_' '_' 'X' 'X' 'X']]\n"
     ]
    }
   ],
   "source": [
    "realizar_disparo (tablero_maquina,(7,4)) #Vemos que hemos ganado la partida ya que hemos disparado a todos los barcos.\n",
    "print(tablero_maquina)\n"
   ]
  },
  {
   "cell_type": "code",
   "execution_count": null,
   "metadata": {},
   "outputs": [],
   "source": []
  }
 ],
 "metadata": {
  "kernelspec": {
   "display_name": "Python 3",
   "language": "python",
   "name": "python3"
  },
  "language_info": {
   "codemirror_mode": {
    "name": "ipython",
    "version": 3
   },
   "file_extension": ".py",
   "mimetype": "text/x-python",
   "name": "python",
   "nbconvert_exporter": "python",
   "pygments_lexer": "ipython3",
   "version": "3.13.3"
  },
  "orig_nbformat": 4
 },
 "nbformat": 4,
 "nbformat_minor": 2
}
